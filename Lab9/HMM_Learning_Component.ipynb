{
  "nbformat": 4,
  "nbformat_minor": 0,
  "metadata": {
    "colab": {
      "provenance": [],
      "gpuType": "T4"
    },
    "kernelspec": {
      "name": "python3",
      "display_name": "Python 3"
    },
    "language_info": {
      "name": "python"
    },
    "accelerator": "GPU"
  },
  "cells": [
    {
      "cell_type": "markdown",
      "source": [
        "# Understanding Hidden Markov Models (HMM)\n",
        "\n",
        "## Introduction to HMM\n",
        "\n",
        "A Hidden Markov Model (HMM) is a statistical model that represents systems that are assumed to be Markov processes with unobserved (hidden) states. HMMs are widely used in various applications, including speech recognition, bioinformatics, and natural language processing.\n",
        "\n",
        "### Key Components of HMM\n",
        "\n",
        "1. **Hidden States**: These are the states of the system that are not directly observable. In our example, we have three hidden states:\n",
        "   - Charging\n",
        "   - Navigating\n",
        "   - Exploring\n",
        "\n",
        "2. **Observable States**: These are the states that can be observed or measured. In this example, the observable states are:\n",
        "   - Idle\n",
        "   - Move\n",
        "   - Scan\n",
        "\n",
        "3. **Start Probabilities**: These represent the initial probabilities of each hidden state.\n",
        "\n",
        "4. **Transition Matrix**: This matrix defines the probabilities of transitioning from one hidden state to another.\n",
        "\n",
        "5. **Emission Probabilities**: This matrix defines the probabilities of observing each observable state from a hidden state.\n",
        "\n",
        "The following Python code uses the `hmmlearn` library to create and fit a Hidden Markov Model."
      ],
      "metadata": {
        "id": "nc7RIYOW7x2r"
      }
    },
    {
      "cell_type": "code",
      "source": [
        "# Install hmmlearn library\n",
        "!pip install hmmlearn"
      ],
      "metadata": {
        "colab": {
          "base_uri": "https://localhost:8080/"
        },
        "id": "lKr8_T7g8Cho",
        "outputId": "b013038d-2868-4fff-aadb-890903c59e60"
      },
      "execution_count": 5,
      "outputs": [
        {
          "output_type": "stream",
          "name": "stdout",
          "text": [
            "Collecting hmmlearn\n",
            "  Downloading hmmlearn-0.3.2-cp310-cp310-manylinux_2_17_x86_64.manylinux2014_x86_64.whl.metadata (2.9 kB)\n",
            "Requirement already satisfied: numpy>=1.10 in /usr/local/lib/python3.10/dist-packages (from hmmlearn) (1.26.4)\n",
            "Requirement already satisfied: scikit-learn!=0.22.0,>=0.16 in /usr/local/lib/python3.10/dist-packages (from hmmlearn) (1.5.2)\n",
            "Requirement already satisfied: scipy>=0.19 in /usr/local/lib/python3.10/dist-packages (from hmmlearn) (1.13.1)\n",
            "Requirement already satisfied: joblib>=1.2.0 in /usr/local/lib/python3.10/dist-packages (from scikit-learn!=0.22.0,>=0.16->hmmlearn) (1.4.2)\n",
            "Requirement already satisfied: threadpoolctl>=3.1.0 in /usr/local/lib/python3.10/dist-packages (from scikit-learn!=0.22.0,>=0.16->hmmlearn) (3.5.0)\n",
            "Downloading hmmlearn-0.3.2-cp310-cp310-manylinux_2_17_x86_64.manylinux2014_x86_64.whl (161 kB)\n",
            "\u001b[2K   \u001b[90m━━━━━━━━━━━━━━━━━━━━━━━━━━━━━━━━━━━━━━━━\u001b[0m \u001b[32m161.1/161.1 kB\u001b[0m \u001b[31m3.6 MB/s\u001b[0m eta \u001b[36m0:00:00\u001b[0m\n",
            "\u001b[?25hInstalling collected packages: hmmlearn\n",
            "Successfully installed hmmlearn-0.3.2\n"
          ]
        }
      ]
    },
    {
      "cell_type": "code",
      "source": [
        "# Import libraries\n",
        "import numpy as np\n",
        "from hmmlearn import hmm"
      ],
      "metadata": {
        "id": "zKIGlccI5thX"
      },
      "execution_count": 6,
      "outputs": []
    },
    {
      "cell_type": "code",
      "source": [
        "# Hidden states\n",
        "hidden_states = [\"Charging\", \"Navigating\", \"Exploring\"]\n",
        "id2state = dict(zip(range(len(hidden_states)), hidden_states))\n",
        "\n",
        "# Prior probabilities for each hidden state\n",
        "start_probs = np.array([0.3, 0.4, 0.3])  # 30% Charging, 40% Navigating, 30% Exploring\n",
        "\n",
        "# Transition matrix for hidden states\n",
        "trans_mat = np.array([[0.1, 0.8, 0.1],  # From Charging:   10% remain in Charging, 80% transition to Navigating, 10% transition to Exploring\n",
        "                      [0.2, 0.6, 0.2],  # From Navigating: 20% transition to Charging, 60% remain in Navigating, 20% transition to Exploring\n",
        "                      [0.5, 0.1, 0.4]]) # From Exploring:  50% transition to Charging, 10% transition to Navigating, 40% remain in Exploring\n",
        "\n",
        "# Observable states and their corresponding emission probabilities\n",
        "observable_states = [\"idle\", \"move\", \"scan\"]\n",
        "emission_probs = np.array([[0.33, 0.34, 0.33],  # Emissions for Charging:   33% Idle, 34% Move, 33% Scan\n",
        "                           [0.2, 0.1, 0.7],     # Emissions for Navigating: 20% Idle, 10% Move, 70% Scan\n",
        "                           [0.2, 0.36, 0.44]])  # Emissions for Exploring:  20% Idle, 36% Move, 44% Scan\n",
        "\n",
        "# List of observation sequences\n",
        "observations = [[\"idle\", \"scan\", \"move\"],\n",
        "                [\"move\", \"scan\", \"idle\"],\n",
        "                [\"move\", \"move\", \"scan\"],\n",
        "                [\"idle\", \"move\", \"scan\"],\n",
        "                [\"scan\", \"idle\", \"idle\"]]\n"
      ],
      "metadata": {
        "id": "w6vIq1Hr7dsT"
      },
      "execution_count": 7,
      "outputs": []
    },
    {
      "cell_type": "code",
      "source": [
        "# Create a mapping from observable states to IDs\n",
        "obs2id = dict(zip(observable_states, range(len(observable_states))))"
      ],
      "metadata": {
        "id": "H1S76TSL8gJs"
      },
      "execution_count": 8,
      "outputs": []
    },
    {
      "cell_type": "code",
      "source": [
        "\n",
        "# Convert observations to counts\n",
        "def observation2counts(observation):\n",
        "    ans = []\n",
        "    for word, idx in obs2id.items():\n",
        "        count = observation.count(word)\n",
        "        ans.append(count)\n",
        "    return ans\n",
        "\n",
        "# Prepare the data for the model\n",
        "X = []\n",
        "for observation in observations:\n",
        "    row = observation2counts(observation)\n",
        "    X.append(row)\n",
        "\n",
        "data = np.array(X, dtype=int)\n",
        "lengths = [len(X)] * 5\n",
        "sequences = np.tile(data, (5, 1))"
      ],
      "metadata": {
        "id": "A8mk9SWY8diS"
      },
      "execution_count": 9,
      "outputs": []
    },
    {
      "cell_type": "code",
      "source": [
        "# Create and fit the HMM model\n",
        "model = hmm.MultinomialHMM(n_components=len(hidden_states), n_iter=50, init_params='', random_state=0)\n",
        "model.n_features = len(observable_states)\n",
        "model.startprob_ = start_probs\n",
        "model.transmat_ = trans_mat\n",
        "model.emissionprob_ = emission_probs\n",
        "model.fit(sequences, lengths)\n",
        "\n",
        "# Decode the predicted states\n",
        "logprob, predicted_states = model.decode(sequences)"
      ],
      "metadata": {
        "colab": {
          "base_uri": "https://localhost:8080/"
        },
        "id": "HHF98Mhw8kz4",
        "outputId": "f6e6f7fa-04d8-47dc-f0bf-57dbe5e62bc5"
      },
      "execution_count": 10,
      "outputs": [
        {
          "output_type": "stream",
          "name": "stderr",
          "text": [
            "WARNING:hmmlearn.hmm:MultinomialHMM has undergone major changes. The previous version was implementing a CategoricalHMM (a special case of MultinomialHMM). This new implementation follows the standard definition for a Multinomial distribution (e.g. as in https://en.wikipedia.org/wiki/Multinomial_distribution). See these issues for details:\n",
            "https://github.com/hmmlearn/hmmlearn/issues/335\n",
            "https://github.com/hmmlearn/hmmlearn/issues/340\n"
          ]
        }
      ]
    },
    {
      "cell_type": "code",
      "source": [
        "# Predicted states and learned probabilities\n",
        "print(\"Predicted states:\")\n",
        "print([id2state[x] for x in predicted_states])"
      ],
      "metadata": {
        "colab": {
          "base_uri": "https://localhost:8080/"
        },
        "id": "lcZTxCzP8pRl",
        "outputId": "c6a2199c-7b83-41f9-af2a-2ee439324cf6"
      },
      "execution_count": 11,
      "outputs": [
        {
          "output_type": "stream",
          "name": "stdout",
          "text": [
            "Predicted states:\n",
            "['Exploring', 'Exploring', 'Exploring', 'Charging', 'Navigating', 'Exploring', 'Exploring', 'Exploring', 'Charging', 'Navigating', 'Exploring', 'Exploring', 'Exploring', 'Charging', 'Navigating', 'Exploring', 'Exploring', 'Exploring', 'Charging', 'Navigating', 'Exploring', 'Exploring', 'Exploring', 'Charging', 'Navigating']\n"
          ]
        }
      ]
    },
    {
      "cell_type": "code",
      "source": [
        "# Create a new model and fit it (the model will automatically initialize the parameters based on the training data).\n",
        "new_model = hmm.MultinomialHMM(n_components=len(hidden_states), n_iter=50, init_params='ste', random_state=0)\n",
        "new_model.fit(sequences, lengths)\n",
        "logprob, new_predicted_states = new_model.decode(sequences)"
      ],
      "metadata": {
        "colab": {
          "base_uri": "https://localhost:8080/"
        },
        "id": "KcmrjhXJ8rC2",
        "outputId": "1efc83d0-99f6-4baa-b191-82786cc10313"
      },
      "execution_count": 12,
      "outputs": [
        {
          "output_type": "stream",
          "name": "stderr",
          "text": [
            "WARNING:hmmlearn.hmm:MultinomialHMM has undergone major changes. The previous version was implementing a CategoricalHMM (a special case of MultinomialHMM). This new implementation follows the standard definition for a Multinomial distribution (e.g. as in https://en.wikipedia.org/wiki/Multinomial_distribution). See these issues for details:\n",
            "https://github.com/hmmlearn/hmmlearn/issues/335\n",
            "https://github.com/hmmlearn/hmmlearn/issues/340\n"
          ]
        }
      ]
    },
    {
      "cell_type": "code",
      "source": [
        "# New model predictions and learned probabilities\n",
        "print(\"\\nNew Model Predictions:\")\n",
        "print(\"Predicted states:\")\n",
        "print([id2state[x] for x in new_predicted_states])\n",
        "\n",
        "print(\"Learned emission probabilities:\")\n",
        "print(new_model.emissionprob_)\n",
        "\n",
        "print(\"Learned transition matrix:\")\n",
        "print(new_model.transmat_)"
      ],
      "metadata": {
        "colab": {
          "base_uri": "https://localhost:8080/"
        },
        "id": "cBWl2T9M8vLh",
        "outputId": "fea24346-727e-41fe-aff3-693ba3ae01c1"
      },
      "execution_count": 13,
      "outputs": [
        {
          "output_type": "stream",
          "name": "stdout",
          "text": [
            "\n",
            "New Model Predictions:\n",
            "Predicted states:\n",
            "['Charging', 'Navigating', 'Exploring', 'Charging', 'Charging', 'Charging', 'Navigating', 'Exploring', 'Charging', 'Charging', 'Charging', 'Navigating', 'Exploring', 'Charging', 'Charging', 'Charging', 'Navigating', 'Exploring', 'Charging', 'Charging', 'Charging', 'Navigating', 'Exploring', 'Charging', 'Navigating']\n",
            "Learned emission probabilities:\n",
            "[[3.33344955e-01 3.33321712e-01 3.33333333e-01]\n",
            " [4.99994189e-01 1.66672478e-01 3.33333333e-01]\n",
            " [6.74368905e-19 6.66666667e-01 3.33333333e-01]]\n",
            "Learned transition matrix:\n",
            "[[3.48649259e-05 9.99965135e-01 3.30003196e-15]\n",
            " [6.02988631e-19 5.90315044e-30 1.00000000e+00]\n",
            " [1.00000000e+00 6.23452134e-41 7.93807755e-33]]\n"
          ]
        }
      ]
    }
  ]
}