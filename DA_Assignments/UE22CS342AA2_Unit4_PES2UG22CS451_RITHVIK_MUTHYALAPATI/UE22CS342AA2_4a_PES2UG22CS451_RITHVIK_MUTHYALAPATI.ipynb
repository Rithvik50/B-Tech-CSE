{
 "cells": [
  {
   "cell_type": "markdown",
   "metadata": {},
   "source": [
    "# <center> UE22CS342AA2 - Data Analytics </center>\n",
    "\n",
    "# <center> Worksheet 4a: Collaborative Filtering </center>\n",
    "\n",
    "<center> Designed by Amritha GK, PESU-25 </center>\n",
    "\n",
    "<br>\n",
    "\n",
    "- Student name: Rithvik Muthyalapati\n",
    "- SRN: PES2UG22CS451\n",
    "- Section: H"
   ]
  },
  {
   "cell_type": "markdown",
   "metadata": {},
   "source": [
    "\n",
    "Assume there exists a parallel universe and you are a Data Analyst intern at Parallel Earth Amazon. The company wants to test product recommendations and improve their product catalogue. For this exercise, you are tasked with the analysis of User Ratings for Health and Personal Care Products.\n",
    "\n",
    "\n",
    "\n",
    "# Details of the dataset:\n",
    "\n",
    "### Columns in this dataset:\n",
    "\n",
    "- 'sl': serial number of records\n",
    "\n",
    "- 'user_id': Unique identifier for users\n",
    "\n",
    "- 'title': title of the review\n",
    "\n",
    "- 'text': body of the review\n",
    "\n",
    "- 'asin': Amazon Standard Identification Number (ASIN) is a ten-digit alphanumeric code that identifies products on Amazon. It's unique for each product and is assigned when you create a new product in Amazon's catalog.\n",
    "\n",
    "- 'parent_asin': The abstraction of the variations is called the parent ASIN. It can't be purchased and hence is not associated with an offer.\n",
    "\n",
    "- 'rating': Product rating (out of 5)\n",
    "\n",
    "- 'timestamp': In milliseconds\n",
    "\n",
    "- 'helpful_vote': Interactions of other users with this review\n",
    "\n",
    "- 'verified_purchase': (True or False) Amazon has verified that the person writing the review purchased the product from Amazon, and didn't receive the product at a discount.\n",
    "\n",
    "\n",
    "\n",
    "## Some conceptual information:\n",
    "\n",
    "### Utility Matrix\n",
    "\n",
    "This is an m x n matrix (m users, n items) that consists the rating / preference of each user for each item.\n",
    "\n",
    "It is usually quite sparse as the rating values are usually present for very few user-item pairs.\n",
    "\n",
    "\n",
    "\n",
    "### Neighborhood-based methods\n",
    "\n",
    "The main idea with neighborhood-based methods is to leverage either user-user similarity or item-item similarity to make recommendations. These methods assume that similar users tend to have similar behaviors when rating items.\n",
    "\n",
    "There are mainly two types:\n",
    "\n",
    "\n",
    "\n",
    "1. **User-based collaborative filtering**: based on similarity between users.\n",
    "\n",
    "2. **Item-based collaborative filtering**: based on similarity between items.\n",
    "\n",
    "\n",
    "\n",
    "### Matrix factorization/decomposition\n",
    "\n",
    "The utility matrix can be represented as a product of two smaller matrices, say U and V, representing users and items respectively."
   ]
  },
  {
   "cell_type": "markdown",
   "metadata": {},
   "source": [
    "## Install the required packages"
   ]
  },
  {
   "cell_type": "code",
   "execution_count": 32,
   "metadata": {
    "execution": {
     "iopub.execute_input": "2024-11-12T06:04:23.730753Z",
     "iopub.status.busy": "2024-11-12T06:04:23.728992Z",
     "iopub.status.idle": "2024-11-12T06:04:23.742952Z",
     "shell.execute_reply": "2024-11-12T06:04:23.740958Z"
    },
    "trusted": true,
    "vscode": {
     "languageId": "plaintext"
    }
   },
   "outputs": [],
   "source": [
    "#install.packages(\"recommenderlab\")\n",
    "\n",
    "#install.packages(\"tidyr\")"
   ]
  },
  {
   "cell_type": "markdown",
   "metadata": {},
   "source": [
    "## Load the required packages"
   ]
  },
  {
   "cell_type": "code",
   "execution_count": 33,
   "metadata": {
    "execution": {
     "iopub.execute_input": "2024-11-12T06:04:23.747480Z",
     "iopub.status.busy": "2024-11-12T06:04:23.745847Z",
     "iopub.status.idle": "2024-11-12T06:04:23.766874Z",
     "shell.execute_reply": "2024-11-12T06:04:23.765025Z"
    },
    "trusted": true,
    "vscode": {
     "languageId": "plaintext"
    }
   },
   "outputs": [],
   "source": [
    "library(dplyr)\n",
    "\n",
    "library(tidyr)   \n",
    "\n",
    "library(recommenderlab)\n",
    "\n",
    "library(ggplot2)"
   ]
  },
  {
   "cell_type": "markdown",
   "metadata": {},
   "source": [
    "## Load and create dataframe"
   ]
  },
  {
   "cell_type": "code",
   "execution_count": 34,
   "metadata": {
    "execution": {
     "iopub.execute_input": "2024-11-12T06:04:23.771214Z",
     "iopub.status.busy": "2024-11-12T06:04:23.769696Z",
     "iopub.status.idle": "2024-11-12T06:04:23.869218Z",
     "shell.execute_reply": "2024-11-12T06:04:23.867354Z"
    },
    "trusted": true,
    "vscode": {
     "languageId": "plaintext"
    }
   },
   "outputs": [],
   "source": [
    "# Your code here\n",
    "file_path <- \"/kaggle/input/health-and-personal-care-dataset/Worksheet-4a_Health_And_Personal_Care_Dataset.csv\"\n",
    "df <- read.csv(file_path, stringsAsFactors = FALSE)"
   ]
  },
  {
   "cell_type": "code",
   "execution_count": 35,
   "metadata": {
    "execution": {
     "iopub.execute_input": "2024-11-12T06:04:23.874321Z",
     "iopub.status.busy": "2024-11-12T06:04:23.872689Z",
     "iopub.status.idle": "2024-11-12T06:04:23.925655Z",
     "shell.execute_reply": "2024-11-12T06:04:23.910874Z"
    },
    "trusted": true,
    "vscode": {
     "languageId": "r"
    }
   },
   "outputs": [
    {
     "data": {
      "text/html": [
       "<table class=\"dataframe\">\n",
       "<caption>A data.frame: 6 × 10</caption>\n",
       "<thead>\n",
       "\t<tr><th></th><th scope=col>X</th><th scope=col>user_id</th><th scope=col>title</th><th scope=col>text</th><th scope=col>asin</th><th scope=col>parent_asin</th><th scope=col>rating</th><th scope=col>timestamp</th><th scope=col>helpful_vote</th><th scope=col>verified_purchase</th></tr>\n",
       "\t<tr><th></th><th scope=col>&lt;int&gt;</th><th scope=col>&lt;chr&gt;</th><th scope=col>&lt;chr&gt;</th><th scope=col>&lt;chr&gt;</th><th scope=col>&lt;chr&gt;</th><th scope=col>&lt;chr&gt;</th><th scope=col>&lt;dbl&gt;</th><th scope=col>&lt;dbl&gt;</th><th scope=col>&lt;int&gt;</th><th scope=col>&lt;chr&gt;</th></tr>\n",
       "</thead>\n",
       "<tbody>\n",
       "\t<tr><th scope=row>1</th><td>2809</td><td>AE23ZBUF2YVBQPH2NN6F5XSA3QYQ</td><td>The Soap Petals Are A Fun Addition</td><td>I'm using to purchasing bath bombs for nearly $6-10 a bomb at major bath and spa stores, so these bombs are $18 at the time of review are an amazing price. The scent, the size, the colors, and the extra soap petals are a steal! The bombs are a great size. They fizz, spin, and float for quite some time, longer than usual bombs. There is even a very large heart shaped bomb that lasts forever. The scents vary and are not too perfume like nor too fake smelling. They are relaxing and calming. I love that it includes the plastic piece to open the bombs easier too. The box itself has a bunch of flower petal soaps inside. These petals are fun for floating and using the soap to wash with after. You can't go wrong with this box of spa bath bombs.                                                                                                                                                                                                                                                                                     </td><td>B08D93ZSWY</td><td>B08D93ZSWY</td><td>5</td><td>1.617386e+12</td><td>1</td><td>False</td></tr>\n",
       "\t<tr><th scope=row>2</th><td>2549</td><td>AE23ZBUF2YVBQPH2NN6F5XSA3QYQ</td><td><span style=white-space:pre-wrap>Add More Water Than Suggested     </span></td><td>We live in the south. You need all the help when you live in the south in the summer. The humidity and heat are brutal. If you don't beat the heat, you'll need these. The trick I found to these is to do a little more than 32oz of water. I do 4oz with warm water for the powder to dissolve and then I had 30 oz of cold water and ice cubes and shake again. These tastes much better cold, but the powder dissolves easier when it's mixed in warm water initially.&lt;br /&gt;&lt;br /&gt;The orange tastes good. It is a bit sweeter than I would like, but sweet is better than salty and the sweetness gets better when you add those extra couple oz of water. It doesn't taste like the fake sugar thankfully. And it doesn't taste like salt which I half expected like other fluid replacement and electrolyte mixes.&lt;br /&gt;&lt;br /&gt;They come in an easy to keep package. Grab what you need and stick it back in the closet. These are even good for school sports since you can hydrate a whole team for just over $1 a piece. Still cheaper than name brand.</td><td>B09GL3RDTD</td><td>B09GL3RDTD</td><td>4</td><td>1.637514e+12</td><td>0</td><td>False</td></tr>\n",
       "\t<tr><th scope=row>3</th><td>2593</td><td>AE23ZBUF2YVBQPH2NN6F5XSA3QYQ</td><td><span style=white-space:pre-wrap>Not very comfortable.             </span></td><td><span style=white-space:pre-wrap>This is difficult to give a good review because there are way more negatives than positives. I mean, it's great the packaging is easy to open, but it is not enough to make me convince you to purchase these. I am not flat footed, but I also don't have a high arch, yet I'm not neutral either. I wear other insoles of the same style comfortably. These are not comparable.&lt;br /&gt;&lt;br /&gt;Pros&lt;br /&gt;-Size 12 needs no cutting.&lt;br /&gt;-Easy to remove from the packaging.&lt;br /&gt;&lt;br /&gt;Cons&lt;br /&gt;-Flat (It says its the natural arch height, but these feel incredibly flat)&lt;br /&gt;-Weird bubble in the middle (It feels really awkward)&lt;br /&gt;-Narrow (If you have a wide foot, these will not work for you)&lt;br /&gt;-Expensive ($36 for one pair at the time of review, for a no name brand)&lt;br /&gt;&lt;br /&gt;I would spend your money on a name brand insole of the same style for a better price and better results. These are just not comfortable.                                                                                                                   </span></td><td>B08RD257KT</td><td>B08RD257KT</td><td>2</td><td>1.619570e+12</td><td>0</td><td>False</td></tr>\n",
       "\t<tr><th scope=row>4</th><td>3280</td><td>AE23ZBUF2YVBQPH2NN6F5XSA3QYQ</td><td>Smells Intoxicating!              </td><td>Oh man these smell so good! Lemongrass is my favorite scent when it comes to essential oils and I enjoy looking for bath bombs and shower steamers that smell like strong lemongrass. The only thing I didn't care for was how difficult it was to actually open. Once I did get the bag open, I was hit with the lemongrass. The smell is literally intoxicating. If you place directly under the shower, they will dissolve quickly. I like placing one on one of the built in shelves where the water just splashes occasionally. I get a longer lasting steamer and the scent is closer to my face. These are $17, which puts them at almost $2 a piece, but this is okay because I've paid far more for shower steamers from name brand companies that weren't as strong. This is really a win for me!                                                                                                                                                                                                                                                    </td><td>B098WFX6TY</td><td>B098WFX6TY</td><td>5</td><td>1.633211e+12</td><td>0</td><td>False</td></tr>\n",
       "\t<tr><th scope=row>5</th><td>2178</td><td>AE23ZBUF2YVBQPH2NN6F5XSA3QYQ</td><td>More Perfume Scent                </td><td>$12 for 6 bombs is pretty average when it comes to the price of good bombs. I wouldn't say that these are over the top, but I do believe they are decent. The actual bombs are small, fitting in the palm of your hand. The scents are a bit strong, more perfume scented than fruit scented. The orange actually smells like orange, but the others smell like perfume. A little too strong. The bombs do float and fizz longer than the other brands I have tried out. The water is colored with pretty colors and not just a dirty looking bath. I would say these are better for kids than adults personally, but for the price, you can't go wrong. I don't care for the perfume scents, but some do.                                                                                                                                                                                                                                                                                                                                                     </td><td>B08Z474Q6J</td><td>B08Z474Q6J</td><td>4</td><td>1.623007e+12</td><td>0</td><td>False</td></tr>\n",
       "\t<tr><th scope=row>6</th><td> 397</td><td>AE23ZBUF2YVBQPH2NN6F5XSA3QYQ</td><td>Good Gauze, Okay Medical Tape     </td><td>I've been putting together my jump bag which requires a lot of gauze and bandages. For $14 at the time of review, you get 30 rolls of gauze. These are literally the perfect size for any first aid kit or jump bag. The one thing I like most is that the gauze doesn't stick to wounds nor fall apart. They are multi-ply gauze that are well thread. You can pull this tot without worrying about it ripping. It could be a makeshift sling if needed it's that durable. I find the individual wrapped rolls better to use than a large roll where you have to keep cutting after each use. These are perfect \"one time use\" rolls. They fit snug in the box or you can stick them all in your kit depending on size. No complaints here!                                                                                                                                                                                                                                                                                                                   </td><td>B093ZTWFGP</td><td>B093ZTWFGP</td><td>5</td><td>1.637203e+12</td><td>0</td><td>False</td></tr>\n",
       "</tbody>\n",
       "</table>\n"
      ],
      "text/latex": [
       "A data.frame: 6 × 10\n",
       "\\begin{tabular}{r|llllllllll}\n",
       "  & X & user\\_id & title & text & asin & parent\\_asin & rating & timestamp & helpful\\_vote & verified\\_purchase\\\\\n",
       "  & <int> & <chr> & <chr> & <chr> & <chr> & <chr> & <dbl> & <dbl> & <int> & <chr>\\\\\n",
       "\\hline\n",
       "\t1 & 2809 & AE23ZBUF2YVBQPH2NN6F5XSA3QYQ & The Soap Petals Are A Fun Addition & I'm using to purchasing bath bombs for nearly \\$6-10 a bomb at major bath and spa stores, so these bombs are \\$18 at the time of review are an amazing price. The scent, the size, the colors, and the extra soap petals are a steal! The bombs are a great size. They fizz, spin, and float for quite some time, longer than usual bombs. There is even a very large heart shaped bomb that lasts forever. The scents vary and are not too perfume like nor too fake smelling. They are relaxing and calming. I love that it includes the plastic piece to open the bombs easier too. The box itself has a bunch of flower petal soaps inside. These petals are fun for floating and using the soap to wash with after. You can't go wrong with this box of spa bath bombs.                                                                                                                                                                                                                                                                                      & B08D93ZSWY & B08D93ZSWY & 5 & 1.617386e+12 & 1 & False\\\\\n",
       "\t2 & 2549 & AE23ZBUF2YVBQPH2NN6F5XSA3QYQ & Add More Water Than Suggested      & We live in the south. You need all the help when you live in the south in the summer. The humidity and heat are brutal. If you don't beat the heat, you'll need these. The trick I found to these is to do a little more than 32oz of water. I do 4oz with warm water for the powder to dissolve and then I had 30 oz of cold water and ice cubes and shake again. These tastes much better cold, but the powder dissolves easier when it's mixed in warm water initially.<br /><br />The orange tastes good. It is a bit sweeter than I would like, but sweet is better than salty and the sweetness gets better when you add those extra couple oz of water. It doesn't taste like the fake sugar thankfully. And it doesn't taste like salt which I half expected like other fluid replacement and electrolyte mixes.<br /><br />They come in an easy to keep package. Grab what you need and stick it back in the closet. These are even good for school sports since you can hydrate a whole team for just over \\$1 a piece. Still cheaper than name brand. & B09GL3RDTD & B09GL3RDTD & 4 & 1.637514e+12 & 0 & False\\\\\n",
       "\t3 & 2593 & AE23ZBUF2YVBQPH2NN6F5XSA3QYQ & Not very comfortable.              & This is difficult to give a good review because there are way more negatives than positives. I mean, it's great the packaging is easy to open, but it is not enough to make me convince you to purchase these. I am not flat footed, but I also don't have a high arch, yet I'm not neutral either. I wear other insoles of the same style comfortably. These are not comparable.<br /><br />Pros<br />-Size 12 needs no cutting.<br />-Easy to remove from the packaging.<br /><br />Cons<br />-Flat (It says its the natural arch height, but these feel incredibly flat)<br />-Weird bubble in the middle (It feels really awkward)<br />-Narrow (If you have a wide foot, these will not work for you)<br />-Expensive (\\$36 for one pair at the time of review, for a no name brand)<br /><br />I would spend your money on a name brand insole of the same style for a better price and better results. These are just not comfortable.                                                                                                                    & B08RD257KT & B08RD257KT & 2 & 1.619570e+12 & 0 & False\\\\\n",
       "\t4 & 3280 & AE23ZBUF2YVBQPH2NN6F5XSA3QYQ & Smells Intoxicating!               & Oh man these smell so good! Lemongrass is my favorite scent when it comes to essential oils and I enjoy looking for bath bombs and shower steamers that smell like strong lemongrass. The only thing I didn't care for was how difficult it was to actually open. Once I did get the bag open, I was hit with the lemongrass. The smell is literally intoxicating. If you place directly under the shower, they will dissolve quickly. I like placing one on one of the built in shelves where the water just splashes occasionally. I get a longer lasting steamer and the scent is closer to my face. These are \\$17, which puts them at almost \\$2 a piece, but this is okay because I've paid far more for shower steamers from name brand companies that weren't as strong. This is really a win for me!                                                                                                                                                                                                                                                     & B098WFX6TY & B098WFX6TY & 5 & 1.633211e+12 & 0 & False\\\\\n",
       "\t5 & 2178 & AE23ZBUF2YVBQPH2NN6F5XSA3QYQ & More Perfume Scent                 & \\$12 for 6 bombs is pretty average when it comes to the price of good bombs. I wouldn't say that these are over the top, but I do believe they are decent. The actual bombs are small, fitting in the palm of your hand. The scents are a bit strong, more perfume scented than fruit scented. The orange actually smells like orange, but the others smell like perfume. A little too strong. The bombs do float and fizz longer than the other brands I have tried out. The water is colored with pretty colors and not just a dirty looking bath. I would say these are better for kids than adults personally, but for the price, you can't go wrong. I don't care for the perfume scents, but some do.                                                                                                                                                                                                                                                                                                                                                      & B08Z474Q6J & B08Z474Q6J & 4 & 1.623007e+12 & 0 & False\\\\\n",
       "\t6 &  397 & AE23ZBUF2YVBQPH2NN6F5XSA3QYQ & Good Gauze, Okay Medical Tape      & I've been putting together my jump bag which requires a lot of gauze and bandages. For \\$14 at the time of review, you get 30 rolls of gauze. These are literally the perfect size for any first aid kit or jump bag. The one thing I like most is that the gauze doesn't stick to wounds nor fall apart. They are multi-ply gauze that are well thread. You can pull this tot without worrying about it ripping. It could be a makeshift sling if needed it's that durable. I find the individual wrapped rolls better to use than a large roll where you have to keep cutting after each use. These are perfect \"one time use\" rolls. They fit snug in the box or you can stick them all in your kit depending on size. No complaints here!                                                                                                                                                                                                                                                                                                                    & B093ZTWFGP & B093ZTWFGP & 5 & 1.637203e+12 & 0 & False\\\\\n",
       "\\end{tabular}\n"
      ],
      "text/markdown": [
       "\n",
       "A data.frame: 6 × 10\n",
       "\n",
       "| <!--/--> | X &lt;int&gt; | user_id &lt;chr&gt; | title &lt;chr&gt; | text &lt;chr&gt; | asin &lt;chr&gt; | parent_asin &lt;chr&gt; | rating &lt;dbl&gt; | timestamp &lt;dbl&gt; | helpful_vote &lt;int&gt; | verified_purchase &lt;chr&gt; |\n",
       "|---|---|---|---|---|---|---|---|---|---|---|\n",
       "| 1 | 2809 | AE23ZBUF2YVBQPH2NN6F5XSA3QYQ | The Soap Petals Are A Fun Addition | I'm using to purchasing bath bombs for nearly $6-10 a bomb at major bath and spa stores, so these bombs are $18 at the time of review are an amazing price. The scent, the size, the colors, and the extra soap petals are a steal! The bombs are a great size. They fizz, spin, and float for quite some time, longer than usual bombs. There is even a very large heart shaped bomb that lasts forever. The scents vary and are not too perfume like nor too fake smelling. They are relaxing and calming. I love that it includes the plastic piece to open the bombs easier too. The box itself has a bunch of flower petal soaps inside. These petals are fun for floating and using the soap to wash with after. You can't go wrong with this box of spa bath bombs.                                                                                                                                                                                                                                                                                      | B08D93ZSWY | B08D93ZSWY | 5 | 1.617386e+12 | 1 | False |\n",
       "| 2 | 2549 | AE23ZBUF2YVBQPH2NN6F5XSA3QYQ | Add More Water Than Suggested      | We live in the south. You need all the help when you live in the south in the summer. The humidity and heat are brutal. If you don't beat the heat, you'll need these. The trick I found to these is to do a little more than 32oz of water. I do 4oz with warm water for the powder to dissolve and then I had 30 oz of cold water and ice cubes and shake again. These tastes much better cold, but the powder dissolves easier when it's mixed in warm water initially.&lt;br /&gt;&lt;br /&gt;The orange tastes good. It is a bit sweeter than I would like, but sweet is better than salty and the sweetness gets better when you add those extra couple oz of water. It doesn't taste like the fake sugar thankfully. And it doesn't taste like salt which I half expected like other fluid replacement and electrolyte mixes.&lt;br /&gt;&lt;br /&gt;They come in an easy to keep package. Grab what you need and stick it back in the closet. These are even good for school sports since you can hydrate a whole team for just over $1 a piece. Still cheaper than name brand. | B09GL3RDTD | B09GL3RDTD | 4 | 1.637514e+12 | 0 | False |\n",
       "| 3 | 2593 | AE23ZBUF2YVBQPH2NN6F5XSA3QYQ | Not very comfortable.              | This is difficult to give a good review because there are way more negatives than positives. I mean, it's great the packaging is easy to open, but it is not enough to make me convince you to purchase these. I am not flat footed, but I also don't have a high arch, yet I'm not neutral either. I wear other insoles of the same style comfortably. These are not comparable.&lt;br /&gt;&lt;br /&gt;Pros&lt;br /&gt;-Size 12 needs no cutting.&lt;br /&gt;-Easy to remove from the packaging.&lt;br /&gt;&lt;br /&gt;Cons&lt;br /&gt;-Flat (It says its the natural arch height, but these feel incredibly flat)&lt;br /&gt;-Weird bubble in the middle (It feels really awkward)&lt;br /&gt;-Narrow (If you have a wide foot, these will not work for you)&lt;br /&gt;-Expensive ($36 for one pair at the time of review, for a no name brand)&lt;br /&gt;&lt;br /&gt;I would spend your money on a name brand insole of the same style for a better price and better results. These are just not comfortable.                                                                                                                    | B08RD257KT | B08RD257KT | 2 | 1.619570e+12 | 0 | False |\n",
       "| 4 | 3280 | AE23ZBUF2YVBQPH2NN6F5XSA3QYQ | Smells Intoxicating!               | Oh man these smell so good! Lemongrass is my favorite scent when it comes to essential oils and I enjoy looking for bath bombs and shower steamers that smell like strong lemongrass. The only thing I didn't care for was how difficult it was to actually open. Once I did get the bag open, I was hit with the lemongrass. The smell is literally intoxicating. If you place directly under the shower, they will dissolve quickly. I like placing one on one of the built in shelves where the water just splashes occasionally. I get a longer lasting steamer and the scent is closer to my face. These are $17, which puts them at almost $2 a piece, but this is okay because I've paid far more for shower steamers from name brand companies that weren't as strong. This is really a win for me!                                                                                                                                                                                                                                                     | B098WFX6TY | B098WFX6TY | 5 | 1.633211e+12 | 0 | False |\n",
       "| 5 | 2178 | AE23ZBUF2YVBQPH2NN6F5XSA3QYQ | More Perfume Scent                 | $12 for 6 bombs is pretty average when it comes to the price of good bombs. I wouldn't say that these are over the top, but I do believe they are decent. The actual bombs are small, fitting in the palm of your hand. The scents are a bit strong, more perfume scented than fruit scented. The orange actually smells like orange, but the others smell like perfume. A little too strong. The bombs do float and fizz longer than the other brands I have tried out. The water is colored with pretty colors and not just a dirty looking bath. I would say these are better for kids than adults personally, but for the price, you can't go wrong. I don't care for the perfume scents, but some do.                                                                                                                                                                                                                                                                                                                                                      | B08Z474Q6J | B08Z474Q6J | 4 | 1.623007e+12 | 0 | False |\n",
       "| 6 |  397 | AE23ZBUF2YVBQPH2NN6F5XSA3QYQ | Good Gauze, Okay Medical Tape      | I've been putting together my jump bag which requires a lot of gauze and bandages. For $14 at the time of review, you get 30 rolls of gauze. These are literally the perfect size for any first aid kit or jump bag. The one thing I like most is that the gauze doesn't stick to wounds nor fall apart. They are multi-ply gauze that are well thread. You can pull this tot without worrying about it ripping. It could be a makeshift sling if needed it's that durable. I find the individual wrapped rolls better to use than a large roll where you have to keep cutting after each use. These are perfect \"one time use\" rolls. They fit snug in the box or you can stick them all in your kit depending on size. No complaints here!                                                                                                                                                                                                                                                                                                                    | B093ZTWFGP | B093ZTWFGP | 5 | 1.637203e+12 | 0 | False |\n",
       "\n"
      ],
      "text/plain": [
       "  X    user_id                      title                             \n",
       "1 2809 AE23ZBUF2YVBQPH2NN6F5XSA3QYQ The Soap Petals Are A Fun Addition\n",
       "2 2549 AE23ZBUF2YVBQPH2NN6F5XSA3QYQ Add More Water Than Suggested     \n",
       "3 2593 AE23ZBUF2YVBQPH2NN6F5XSA3QYQ Not very comfortable.             \n",
       "4 3280 AE23ZBUF2YVBQPH2NN6F5XSA3QYQ Smells Intoxicating!              \n",
       "5 2178 AE23ZBUF2YVBQPH2NN6F5XSA3QYQ More Perfume Scent                \n",
       "6  397 AE23ZBUF2YVBQPH2NN6F5XSA3QYQ Good Gauze, Okay Medical Tape     \n",
       "  text                                                                                                                                                                                                                                                                                                                                                                                                                                                                                                                                                                                                                                                                                                                                                                                                                                                                                                                                                                                                                                                           \n",
       "1 I'm using to purchasing bath bombs for nearly $6-10 a bomb at major bath and spa stores, so these bombs are $18 at the time of review are an amazing price. The scent, the size, the colors, and the extra soap petals are a steal! The bombs are a great size. They fizz, spin, and float for quite some time, longer than usual bombs. There is even a very large heart shaped bomb that lasts forever. The scents vary and are not too perfume like nor too fake smelling. They are relaxing and calming. I love that it includes the plastic piece to open the bombs easier too. The box itself has a bunch of flower petal soaps inside. These petals are fun for floating and using the soap to wash with after. You can't go wrong with this box of spa bath bombs.                                                                                                                                                                                                                                                                                     \n",
       "2 We live in the south. You need all the help when you live in the south in the summer. The humidity and heat are brutal. If you don't beat the heat, you'll need these. The trick I found to these is to do a little more than 32oz of water. I do 4oz with warm water for the powder to dissolve and then I had 30 oz of cold water and ice cubes and shake again. These tastes much better cold, but the powder dissolves easier when it's mixed in warm water initially.<br /><br />The orange tastes good. It is a bit sweeter than I would like, but sweet is better than salty and the sweetness gets better when you add those extra couple oz of water. It doesn't taste like the fake sugar thankfully. And it doesn't taste like salt which I half expected like other fluid replacement and electrolyte mixes.<br /><br />They come in an easy to keep package. Grab what you need and stick it back in the closet. These are even good for school sports since you can hydrate a whole team for just over $1 a piece. Still cheaper than name brand.\n",
       "3 This is difficult to give a good review because there are way more negatives than positives. I mean, it's great the packaging is easy to open, but it is not enough to make me convince you to purchase these. I am not flat footed, but I also don't have a high arch, yet I'm not neutral either. I wear other insoles of the same style comfortably. These are not comparable.<br /><br />Pros<br />-Size 12 needs no cutting.<br />-Easy to remove from the packaging.<br /><br />Cons<br />-Flat (It says its the natural arch height, but these feel incredibly flat)<br />-Weird bubble in the middle (It feels really awkward)<br />-Narrow (If you have a wide foot, these will not work for you)<br />-Expensive ($36 for one pair at the time of review, for a no name brand)<br /><br />I would spend your money on a name brand insole of the same style for a better price and better results. These are just not comfortable.                                                                                                                   \n",
       "4 Oh man these smell so good! Lemongrass is my favorite scent when it comes to essential oils and I enjoy looking for bath bombs and shower steamers that smell like strong lemongrass. The only thing I didn't care for was how difficult it was to actually open. Once I did get the bag open, I was hit with the lemongrass. The smell is literally intoxicating. If you place directly under the shower, they will dissolve quickly. I like placing one on one of the built in shelves where the water just splashes occasionally. I get a longer lasting steamer and the scent is closer to my face. These are $17, which puts them at almost $2 a piece, but this is okay because I've paid far more for shower steamers from name brand companies that weren't as strong. This is really a win for me!                                                                                                                                                                                                                                                    \n",
       "5 $12 for 6 bombs is pretty average when it comes to the price of good bombs. I wouldn't say that these are over the top, but I do believe they are decent. The actual bombs are small, fitting in the palm of your hand. The scents are a bit strong, more perfume scented than fruit scented. The orange actually smells like orange, but the others smell like perfume. A little too strong. The bombs do float and fizz longer than the other brands I have tried out. The water is colored with pretty colors and not just a dirty looking bath. I would say these are better for kids than adults personally, but for the price, you can't go wrong. I don't care for the perfume scents, but some do.                                                                                                                                                                                                                                                                                                                                                     \n",
       "6 I've been putting together my jump bag which requires a lot of gauze and bandages. For $14 at the time of review, you get 30 rolls of gauze. These are literally the perfect size for any first aid kit or jump bag. The one thing I like most is that the gauze doesn't stick to wounds nor fall apart. They are multi-ply gauze that are well thread. You can pull this tot without worrying about it ripping. It could be a makeshift sling if needed it's that durable. I find the individual wrapped rolls better to use than a large roll where you have to keep cutting after each use. These are perfect \"one time use\" rolls. They fit snug in the box or you can stick them all in your kit depending on size. No complaints here!                                                                                                                                                                                                                                                                                                                   \n",
       "  asin       parent_asin rating timestamp    helpful_vote verified_purchase\n",
       "1 B08D93ZSWY B08D93ZSWY  5      1.617386e+12 1            False            \n",
       "2 B09GL3RDTD B09GL3RDTD  4      1.637514e+12 0            False            \n",
       "3 B08RD257KT B08RD257KT  2      1.619570e+12 0            False            \n",
       "4 B098WFX6TY B098WFX6TY  5      1.633211e+12 0            False            \n",
       "5 B08Z474Q6J B08Z474Q6J  4      1.623007e+12 0            False            \n",
       "6 B093ZTWFGP B093ZTWFGP  5      1.637203e+12 0            False            "
      ]
     },
     "metadata": {},
     "output_type": "display_data"
    }
   ],
   "source": [
    "head(df)"
   ]
  },
  {
   "cell_type": "markdown",
   "metadata": {},
   "source": [
    "## Perform EDA and Preprocess the dataset to the required format\n",
    "\n",
    "### 1 point\n",
    "\n",
    "State some observations that you made after performing EDA.\n",
    "\n",
    "Feel free to remove any columns you think are not necessary for the following problems.\n",
    "\n",
    "Some hints to help you get started:\n",
    "- Check the summary, number of rows and columns\n",
    "- Remove null values and duplicates\n",
    "- Obtain a subset of the dataset with the required columns only.\n",
    "- Create the utility matrix\n"
   ]
  },
  {
   "cell_type": "code",
   "execution_count": 36,
   "metadata": {
    "execution": {
     "iopub.execute_input": "2024-11-12T06:04:23.931970Z",
     "iopub.status.busy": "2024-11-12T06:04:23.930305Z",
     "iopub.status.idle": "2024-11-12T06:04:23.969096Z",
     "shell.execute_reply": "2024-11-12T06:04:23.967319Z"
    },
    "trusted": true,
    "vscode": {
     "languageId": "plaintext"
    }
   },
   "outputs": [
    {
     "name": "stdout",
     "output_type": "stream",
     "text": [
      "'data.frame':\t4276 obs. of  10 variables:\n",
      " $ X                : int  2809 2549 2593 3280 2178 397 711 1091 2302 3460 ...\n",
      " $ user_id          : chr  \"AE23ZBUF2YVBQPH2NN6F5XSA3QYQ\" \"AE23ZBUF2YVBQPH2NN6F5XSA3QYQ\" \"AE23ZBUF2YVBQPH2NN6F5XSA3QYQ\" \"AE23ZBUF2YVBQPH2NN6F5XSA3QYQ\" ...\n",
      " $ title            : chr  \"The Soap Petals Are A Fun Addition\" \"Add More Water Than Suggested\" \"Not very comfortable.\" \"Smells Intoxicating!\" ...\n",
      " $ text             : chr  \"I'm using to purchasing bath bombs for nearly $6-10 a bomb at major bath and spa stores, so these bombs are $18\"| __truncated__ \"We live in the south. You need all the help when you live in the south in the summer. The humidity and heat are\"| __truncated__ \"This is difficult to give a good review because there are way more negatives than positives. I mean, it's great\"| __truncated__ \"Oh man these smell so good! Lemongrass is my favorite scent when it comes to essential oils and I enjoy looking\"| __truncated__ ...\n",
      " $ asin             : chr  \"B08D93ZSWY\" \"B09GL3RDTD\" \"B08RD257KT\" \"B098WFX6TY\" ...\n",
      " $ parent_asin      : chr  \"B08D93ZSWY\" \"B09GL3RDTD\" \"B08RD257KT\" \"B098WFX6TY\" ...\n",
      " $ rating           : num  5 4 2 5 4 5 4 5 4 3 ...\n",
      " $ timestamp        : num  1.62e+12 1.64e+12 1.62e+12 1.63e+12 1.62e+12 ...\n",
      " $ helpful_vote     : int  1 0 0 0 0 0 1 1 0 0 ...\n",
      " $ verified_purchase: chr  \"False\" \"False\" \"False\" \"False\" ...\n"
     ]
    },
    {
     "data": {
      "text/plain": [
       "       X          user_id             title               text          \n",
       " Min.   :   0   Length:4276        Length:4276        Length:4276       \n",
       " 1st Qu.:1129   Class :character   Class :character   Class :character  \n",
       " Median :2278   Mode  :character   Mode  :character   Mode  :character  \n",
       " Mean   :2284                                                           \n",
       " 3rd Qu.:3437                                                           \n",
       " Max.   :4589                                                           \n",
       "     asin           parent_asin            rating        timestamp        \n",
       " Length:4276        Length:4276        Min.   :1.000   Min.   :1.345e+12  \n",
       " Class :character   Class :character   1st Qu.:4.000   1st Qu.:1.593e+12  \n",
       " Mode  :character   Mode  :character   Median :5.000   Median :1.613e+12  \n",
       "                                       Mean   :4.285   Mean   :1.610e+12  \n",
       "                                       3rd Qu.:5.000   3rd Qu.:1.634e+12  \n",
       "                                       Max.   :5.000   Max.   :1.684e+12  \n",
       "  helpful_vote     verified_purchase \n",
       " Min.   : 0.0000   Length:4276       \n",
       " 1st Qu.: 0.0000   Class :character  \n",
       " Median : 0.0000   Mode  :character  \n",
       " Mean   : 0.5383                     \n",
       " 3rd Qu.: 0.0000                     \n",
       " Max.   :93.0000                     "
      ]
     },
     "metadata": {},
     "output_type": "display_data"
    },
    {
     "data": {
      "text/html": [
       "<style>\n",
       ".list-inline {list-style: none; margin:0; padding: 0}\n",
       ".list-inline>li {display: inline-block}\n",
       ".list-inline>li:not(:last-child)::after {content: \"\\00b7\"; padding: 0 .5ex}\n",
       "</style>\n",
       "<ol class=list-inline><li>4276</li><li>10</li></ol>\n"
      ],
      "text/latex": [
       "\\begin{enumerate*}\n",
       "\\item 4276\n",
       "\\item 10\n",
       "\\end{enumerate*}\n"
      ],
      "text/markdown": [
       "1. 4276\n",
       "2. 10\n",
       "\n",
       "\n"
      ],
      "text/plain": [
       "[1] 4276   10"
      ]
     },
     "metadata": {},
     "output_type": "display_data"
    }
   ],
   "source": [
    "# Your code here\n",
    "str(df)\n",
    "summary(df)\n",
    "dim(df)"
   ]
  },
  {
   "cell_type": "code",
   "execution_count": 37,
   "metadata": {
    "execution": {
     "iopub.execute_input": "2024-11-12T06:04:23.973157Z",
     "iopub.status.busy": "2024-11-12T06:04:23.971747Z",
     "iopub.status.idle": "2024-11-12T06:04:23.989528Z",
     "shell.execute_reply": "2024-11-12T06:04:23.987753Z"
    },
    "trusted": true,
    "vscode": {
     "languageId": "r"
    }
   },
   "outputs": [
    {
     "data": {
      "text/html": [
       "<style>\n",
       ".dl-inline {width: auto; margin:0; padding: 0}\n",
       ".dl-inline>dt, .dl-inline>dd {float: none; width: auto; display: inline-block}\n",
       ".dl-inline>dt::after {content: \":\\0020\"; padding-right: .5ex}\n",
       ".dl-inline>dt:not(:first-of-type) {padding-left: .5ex}\n",
       "</style><dl class=dl-inline><dt>X</dt><dd>0</dd><dt>user_id</dt><dd>0</dd><dt>title</dt><dd>0</dd><dt>text</dt><dd>0</dd><dt>asin</dt><dd>0</dd><dt>parent_asin</dt><dd>0</dd><dt>rating</dt><dd>0</dd><dt>timestamp</dt><dd>0</dd><dt>helpful_vote</dt><dd>0</dd><dt>verified_purchase</dt><dd>0</dd></dl>\n"
      ],
      "text/latex": [
       "\\begin{description*}\n",
       "\\item[X] 0\n",
       "\\item[user\\textbackslash{}\\_id] 0\n",
       "\\item[title] 0\n",
       "\\item[text] 0\n",
       "\\item[asin] 0\n",
       "\\item[parent\\textbackslash{}\\_asin] 0\n",
       "\\item[rating] 0\n",
       "\\item[timestamp] 0\n",
       "\\item[helpful\\textbackslash{}\\_vote] 0\n",
       "\\item[verified\\textbackslash{}\\_purchase] 0\n",
       "\\end{description*}\n"
      ],
      "text/markdown": [
       "X\n",
       ":   0user_id\n",
       ":   0title\n",
       ":   0text\n",
       ":   0asin\n",
       ":   0parent_asin\n",
       ":   0rating\n",
       ":   0timestamp\n",
       ":   0helpful_vote\n",
       ":   0verified_purchase\n",
       ":   0\n",
       "\n"
      ],
      "text/plain": [
       "                X           user_id             title              text \n",
       "                0                 0                 0                 0 \n",
       "             asin       parent_asin            rating         timestamp \n",
       "                0                 0                 0                 0 \n",
       "     helpful_vote verified_purchase \n",
       "                0                 0 "
      ]
     },
     "metadata": {},
     "output_type": "display_data"
    }
   ],
   "source": [
    "colSums(is.na(df))"
   ]
  },
  {
   "cell_type": "code",
   "execution_count": 38,
   "metadata": {
    "execution": {
     "iopub.execute_input": "2024-11-12T06:04:23.993862Z",
     "iopub.status.busy": "2024-11-12T06:04:23.992329Z",
     "iopub.status.idle": "2024-11-12T06:04:24.010386Z",
     "shell.execute_reply": "2024-11-12T06:04:24.008343Z"
    },
    "trusted": true,
    "vscode": {
     "languageId": "r"
    }
   },
   "outputs": [],
   "source": [
    "# Remove duplicate rows\n",
    "df <- df %>% distinct()"
   ]
  },
  {
   "cell_type": "code",
   "execution_count": 39,
   "metadata": {
    "execution": {
     "iopub.execute_input": "2024-11-12T06:04:24.017190Z",
     "iopub.status.busy": "2024-11-12T06:04:24.014823Z",
     "iopub.status.idle": "2024-11-12T06:04:24.036290Z",
     "shell.execute_reply": "2024-11-12T06:04:24.034373Z"
    },
    "trusted": true,
    "vscode": {
     "languageId": "r"
    }
   },
   "outputs": [],
   "source": [
    "# Select relevant columns\n",
    "df <- df %>% select(user_id, asin, rating)"
   ]
  },
  {
   "cell_type": "code",
   "execution_count": 40,
   "metadata": {
    "execution": {
     "iopub.execute_input": "2024-11-12T06:04:24.041978Z",
     "iopub.status.busy": "2024-11-12T06:04:24.040418Z",
     "iopub.status.idle": "2024-11-12T06:04:24.067384Z",
     "shell.execute_reply": "2024-11-12T06:04:24.065070Z"
    },
    "trusted": true,
    "vscode": {
     "languageId": "r"
    }
   },
   "outputs": [
    {
     "data": {
      "text/html": [
       "<table class=\"dataframe\">\n",
       "<caption>A data.frame: 6 × 3</caption>\n",
       "<thead>\n",
       "\t<tr><th></th><th scope=col>user_id</th><th scope=col>asin</th><th scope=col>rating</th></tr>\n",
       "\t<tr><th></th><th scope=col>&lt;chr&gt;</th><th scope=col>&lt;chr&gt;</th><th scope=col>&lt;dbl&gt;</th></tr>\n",
       "</thead>\n",
       "<tbody>\n",
       "\t<tr><th scope=row>1</th><td>AE23ZBUF2YVBQPH2NN6F5XSA3QYQ</td><td>B08D93ZSWY</td><td>5</td></tr>\n",
       "\t<tr><th scope=row>2</th><td>AE23ZBUF2YVBQPH2NN6F5XSA3QYQ</td><td>B09GL3RDTD</td><td>4</td></tr>\n",
       "\t<tr><th scope=row>3</th><td>AE23ZBUF2YVBQPH2NN6F5XSA3QYQ</td><td>B08RD257KT</td><td>2</td></tr>\n",
       "\t<tr><th scope=row>4</th><td>AE23ZBUF2YVBQPH2NN6F5XSA3QYQ</td><td>B098WFX6TY</td><td>5</td></tr>\n",
       "\t<tr><th scope=row>5</th><td>AE23ZBUF2YVBQPH2NN6F5XSA3QYQ</td><td>B08Z474Q6J</td><td>4</td></tr>\n",
       "\t<tr><th scope=row>6</th><td>AE23ZBUF2YVBQPH2NN6F5XSA3QYQ</td><td>B093ZTWFGP</td><td>5</td></tr>\n",
       "</tbody>\n",
       "</table>\n"
      ],
      "text/latex": [
       "A data.frame: 6 × 3\n",
       "\\begin{tabular}{r|lll}\n",
       "  & user\\_id & asin & rating\\\\\n",
       "  & <chr> & <chr> & <dbl>\\\\\n",
       "\\hline\n",
       "\t1 & AE23ZBUF2YVBQPH2NN6F5XSA3QYQ & B08D93ZSWY & 5\\\\\n",
       "\t2 & AE23ZBUF2YVBQPH2NN6F5XSA3QYQ & B09GL3RDTD & 4\\\\\n",
       "\t3 & AE23ZBUF2YVBQPH2NN6F5XSA3QYQ & B08RD257KT & 2\\\\\n",
       "\t4 & AE23ZBUF2YVBQPH2NN6F5XSA3QYQ & B098WFX6TY & 5\\\\\n",
       "\t5 & AE23ZBUF2YVBQPH2NN6F5XSA3QYQ & B08Z474Q6J & 4\\\\\n",
       "\t6 & AE23ZBUF2YVBQPH2NN6F5XSA3QYQ & B093ZTWFGP & 5\\\\\n",
       "\\end{tabular}\n"
      ],
      "text/markdown": [
       "\n",
       "A data.frame: 6 × 3\n",
       "\n",
       "| <!--/--> | user_id &lt;chr&gt; | asin &lt;chr&gt; | rating &lt;dbl&gt; |\n",
       "|---|---|---|---|\n",
       "| 1 | AE23ZBUF2YVBQPH2NN6F5XSA3QYQ | B08D93ZSWY | 5 |\n",
       "| 2 | AE23ZBUF2YVBQPH2NN6F5XSA3QYQ | B09GL3RDTD | 4 |\n",
       "| 3 | AE23ZBUF2YVBQPH2NN6F5XSA3QYQ | B08RD257KT | 2 |\n",
       "| 4 | AE23ZBUF2YVBQPH2NN6F5XSA3QYQ | B098WFX6TY | 5 |\n",
       "| 5 | AE23ZBUF2YVBQPH2NN6F5XSA3QYQ | B08Z474Q6J | 4 |\n",
       "| 6 | AE23ZBUF2YVBQPH2NN6F5XSA3QYQ | B093ZTWFGP | 5 |\n",
       "\n"
      ],
      "text/plain": [
       "  user_id                      asin       rating\n",
       "1 AE23ZBUF2YVBQPH2NN6F5XSA3QYQ B08D93ZSWY 5     \n",
       "2 AE23ZBUF2YVBQPH2NN6F5XSA3QYQ B09GL3RDTD 4     \n",
       "3 AE23ZBUF2YVBQPH2NN6F5XSA3QYQ B08RD257KT 2     \n",
       "4 AE23ZBUF2YVBQPH2NN6F5XSA3QYQ B098WFX6TY 5     \n",
       "5 AE23ZBUF2YVBQPH2NN6F5XSA3QYQ B08Z474Q6J 4     \n",
       "6 AE23ZBUF2YVBQPH2NN6F5XSA3QYQ B093ZTWFGP 5     "
      ]
     },
     "metadata": {},
     "output_type": "display_data"
    }
   ],
   "source": [
    "head(df)"
   ]
  },
  {
   "cell_type": "code",
   "execution_count": 41,
   "metadata": {
    "execution": {
     "iopub.execute_input": "2024-11-12T06:04:24.072741Z",
     "iopub.status.busy": "2024-11-12T06:04:24.071244Z",
     "iopub.status.idle": "2024-11-12T06:04:24.566360Z",
     "shell.execute_reply": "2024-11-12T06:04:24.563816Z"
    },
    "trusted": true,
    "vscode": {
     "languageId": "r"
    }
   },
   "outputs": [
    {
     "data": {
      "text/html": [
       "<table class=\"dataframe\">\n",
       "<caption>A data.frame: 6 × 880</caption>\n",
       "<thead>\n",
       "\t<tr><th></th><th scope=col>B08D93ZSWY</th><th scope=col>B09GL3RDTD</th><th scope=col>B08RD257KT</th><th scope=col>B098WFX6TY</th><th scope=col>B08Z474Q6J</th><th scope=col>B093ZTWFGP</th><th scope=col>B08LGK1DB2</th><th scope=col>B09VCSTX43</th><th scope=col>B0BCDSDSD1</th><th scope=col>B08MPS8Y1D</th><th scope=col>⋯</th><th scope=col>B07KYV8J35</th><th scope=col>B01420C68C</th><th scope=col>B0787C4NWF</th><th scope=col>B07FKLR9F2</th><th scope=col>B07FSRYT7B</th><th scope=col>B079RJT3RN</th><th scope=col>B079RJSV8D</th><th scope=col>B0080I5LCQ</th><th scope=col>B07RN86PSR</th><th scope=col>B07QLPDMR2</th></tr>\n",
       "\t<tr><th></th><th scope=col>&lt;dbl&gt;</th><th scope=col>&lt;dbl&gt;</th><th scope=col>&lt;dbl&gt;</th><th scope=col>&lt;dbl&gt;</th><th scope=col>&lt;dbl&gt;</th><th scope=col>&lt;dbl&gt;</th><th scope=col>&lt;dbl&gt;</th><th scope=col>&lt;dbl&gt;</th><th scope=col>&lt;dbl&gt;</th><th scope=col>&lt;dbl&gt;</th><th scope=col>⋯</th><th scope=col>&lt;dbl&gt;</th><th scope=col>&lt;dbl&gt;</th><th scope=col>&lt;dbl&gt;</th><th scope=col>&lt;dbl&gt;</th><th scope=col>&lt;dbl&gt;</th><th scope=col>&lt;dbl&gt;</th><th scope=col>&lt;dbl&gt;</th><th scope=col>&lt;dbl&gt;</th><th scope=col>&lt;dbl&gt;</th><th scope=col>&lt;dbl&gt;</th></tr>\n",
       "</thead>\n",
       "<tbody>\n",
       "\t<tr><th scope=row>1</th><td>5</td><td>4</td><td>2</td><td>5</td><td>4</td><td>5</td><td>4</td><td>5</td><td>4</td><td>0</td><td>⋯</td><td>0</td><td>0</td><td>0</td><td>0</td><td>0</td><td>0</td><td>0</td><td>0</td><td>0</td><td>0</td></tr>\n",
       "\t<tr><th scope=row>2</th><td>0</td><td>0</td><td>0</td><td>0</td><td>0</td><td>5</td><td>0</td><td>0</td><td>0</td><td>3</td><td>⋯</td><td>0</td><td>0</td><td>0</td><td>0</td><td>0</td><td>0</td><td>0</td><td>0</td><td>0</td><td>0</td></tr>\n",
       "\t<tr><th scope=row>3</th><td>0</td><td>0</td><td>0</td><td>0</td><td>0</td><td>0</td><td>0</td><td>0</td><td>0</td><td>0</td><td>⋯</td><td>0</td><td>0</td><td>0</td><td>0</td><td>0</td><td>0</td><td>0</td><td>0</td><td>0</td><td>0</td></tr>\n",
       "\t<tr><th scope=row>4</th><td>0</td><td>0</td><td>0</td><td>0</td><td>0</td><td>0</td><td>0</td><td>0</td><td>0</td><td>0</td><td>⋯</td><td>0</td><td>0</td><td>0</td><td>0</td><td>0</td><td>0</td><td>0</td><td>0</td><td>0</td><td>0</td></tr>\n",
       "\t<tr><th scope=row>5</th><td>0</td><td>0</td><td>0</td><td>0</td><td>0</td><td>0</td><td>0</td><td>0</td><td>0</td><td>0</td><td>⋯</td><td>0</td><td>0</td><td>0</td><td>0</td><td>0</td><td>0</td><td>0</td><td>0</td><td>0</td><td>0</td></tr>\n",
       "\t<tr><th scope=row>6</th><td>0</td><td>0</td><td>0</td><td>0</td><td>0</td><td>0</td><td>0</td><td>0</td><td>0</td><td>0</td><td>⋯</td><td>0</td><td>0</td><td>0</td><td>0</td><td>0</td><td>0</td><td>0</td><td>0</td><td>0</td><td>0</td></tr>\n",
       "</tbody>\n",
       "</table>\n"
      ],
      "text/latex": [
       "A data.frame: 6 × 880\n",
       "\\begin{tabular}{r|lllllllllllllllllllll}\n",
       "  & B08D93ZSWY & B09GL3RDTD & B08RD257KT & B098WFX6TY & B08Z474Q6J & B093ZTWFGP & B08LGK1DB2 & B09VCSTX43 & B0BCDSDSD1 & B08MPS8Y1D & ⋯ & B07KYV8J35 & B01420C68C & B0787C4NWF & B07FKLR9F2 & B07FSRYT7B & B079RJT3RN & B079RJSV8D & B0080I5LCQ & B07RN86PSR & B07QLPDMR2\\\\\n",
       "  & <dbl> & <dbl> & <dbl> & <dbl> & <dbl> & <dbl> & <dbl> & <dbl> & <dbl> & <dbl> & ⋯ & <dbl> & <dbl> & <dbl> & <dbl> & <dbl> & <dbl> & <dbl> & <dbl> & <dbl> & <dbl>\\\\\n",
       "\\hline\n",
       "\t1 & 5 & 4 & 2 & 5 & 4 & 5 & 4 & 5 & 4 & 0 & ⋯ & 0 & 0 & 0 & 0 & 0 & 0 & 0 & 0 & 0 & 0\\\\\n",
       "\t2 & 0 & 0 & 0 & 0 & 0 & 5 & 0 & 0 & 0 & 3 & ⋯ & 0 & 0 & 0 & 0 & 0 & 0 & 0 & 0 & 0 & 0\\\\\n",
       "\t3 & 0 & 0 & 0 & 0 & 0 & 0 & 0 & 0 & 0 & 0 & ⋯ & 0 & 0 & 0 & 0 & 0 & 0 & 0 & 0 & 0 & 0\\\\\n",
       "\t4 & 0 & 0 & 0 & 0 & 0 & 0 & 0 & 0 & 0 & 0 & ⋯ & 0 & 0 & 0 & 0 & 0 & 0 & 0 & 0 & 0 & 0\\\\\n",
       "\t5 & 0 & 0 & 0 & 0 & 0 & 0 & 0 & 0 & 0 & 0 & ⋯ & 0 & 0 & 0 & 0 & 0 & 0 & 0 & 0 & 0 & 0\\\\\n",
       "\t6 & 0 & 0 & 0 & 0 & 0 & 0 & 0 & 0 & 0 & 0 & ⋯ & 0 & 0 & 0 & 0 & 0 & 0 & 0 & 0 & 0 & 0\\\\\n",
       "\\end{tabular}\n"
      ],
      "text/markdown": [
       "\n",
       "A data.frame: 6 × 880\n",
       "\n",
       "| <!--/--> | B08D93ZSWY &lt;dbl&gt; | B09GL3RDTD &lt;dbl&gt; | B08RD257KT &lt;dbl&gt; | B098WFX6TY &lt;dbl&gt; | B08Z474Q6J &lt;dbl&gt; | B093ZTWFGP &lt;dbl&gt; | B08LGK1DB2 &lt;dbl&gt; | B09VCSTX43 &lt;dbl&gt; | B0BCDSDSD1 &lt;dbl&gt; | B08MPS8Y1D &lt;dbl&gt; | ⋯ ⋯ | B07KYV8J35 &lt;dbl&gt; | B01420C68C &lt;dbl&gt; | B0787C4NWF &lt;dbl&gt; | B07FKLR9F2 &lt;dbl&gt; | B07FSRYT7B &lt;dbl&gt; | B079RJT3RN &lt;dbl&gt; | B079RJSV8D &lt;dbl&gt; | B0080I5LCQ &lt;dbl&gt; | B07RN86PSR &lt;dbl&gt; | B07QLPDMR2 &lt;dbl&gt; |\n",
       "|---|---|---|---|---|---|---|---|---|---|---|---|---|---|---|---|---|---|---|---|---|---|\n",
       "| 1 | 5 | 4 | 2 | 5 | 4 | 5 | 4 | 5 | 4 | 0 | ⋯ | 0 | 0 | 0 | 0 | 0 | 0 | 0 | 0 | 0 | 0 |\n",
       "| 2 | 0 | 0 | 0 | 0 | 0 | 5 | 0 | 0 | 0 | 3 | ⋯ | 0 | 0 | 0 | 0 | 0 | 0 | 0 | 0 | 0 | 0 |\n",
       "| 3 | 0 | 0 | 0 | 0 | 0 | 0 | 0 | 0 | 0 | 0 | ⋯ | 0 | 0 | 0 | 0 | 0 | 0 | 0 | 0 | 0 | 0 |\n",
       "| 4 | 0 | 0 | 0 | 0 | 0 | 0 | 0 | 0 | 0 | 0 | ⋯ | 0 | 0 | 0 | 0 | 0 | 0 | 0 | 0 | 0 | 0 |\n",
       "| 5 | 0 | 0 | 0 | 0 | 0 | 0 | 0 | 0 | 0 | 0 | ⋯ | 0 | 0 | 0 | 0 | 0 | 0 | 0 | 0 | 0 | 0 |\n",
       "| 6 | 0 | 0 | 0 | 0 | 0 | 0 | 0 | 0 | 0 | 0 | ⋯ | 0 | 0 | 0 | 0 | 0 | 0 | 0 | 0 | 0 | 0 |\n",
       "\n"
      ],
      "text/plain": [
       "  B08D93ZSWY B09GL3RDTD B08RD257KT B098WFX6TY B08Z474Q6J B093ZTWFGP B08LGK1DB2\n",
       "1 5          4          2          5          4          5          4         \n",
       "2 0          0          0          0          0          5          0         \n",
       "3 0          0          0          0          0          0          0         \n",
       "4 0          0          0          0          0          0          0         \n",
       "5 0          0          0          0          0          0          0         \n",
       "6 0          0          0          0          0          0          0         \n",
       "  B09VCSTX43 B0BCDSDSD1 B08MPS8Y1D ⋯ B07KYV8J35 B01420C68C B0787C4NWF\n",
       "1 5          4          0          ⋯ 0          0          0         \n",
       "2 0          0          3          ⋯ 0          0          0         \n",
       "3 0          0          0          ⋯ 0          0          0         \n",
       "4 0          0          0          ⋯ 0          0          0         \n",
       "5 0          0          0          ⋯ 0          0          0         \n",
       "6 0          0          0          ⋯ 0          0          0         \n",
       "  B07FKLR9F2 B07FSRYT7B B079RJT3RN B079RJSV8D B0080I5LCQ B07RN86PSR B07QLPDMR2\n",
       "1 0          0          0          0          0          0          0         \n",
       "2 0          0          0          0          0          0          0         \n",
       "3 0          0          0          0          0          0          0         \n",
       "4 0          0          0          0          0          0          0         \n",
       "5 0          0          0          0          0          0          0         \n",
       "6 0          0          0          0          0          0          0         "
      ]
     },
     "metadata": {},
     "output_type": "display_data"
    }
   ],
   "source": [
    "# Create utility matrix where rows are users, columns are items, and values are ratings\n",
    "utility_matrix <- df %>%\n",
    "  pivot_wider(names_from = asin, values_from = rating) %>%\n",
    "  as.data.frame()\n",
    "\n",
    "# Replace NAs with 0 or a neutral value if desired\n",
    "utility_matrix[is.na(utility_matrix)] <- 0\n",
    "\n",
    "# Store user_id separately to set row names correctly after conversion\n",
    "user_ids <- utility_matrix$user_id\n",
    "utility_matrix <- utility_matrix[, -1]  # Remove user_id column for matrix conversion\n",
    "\n",
    "# Display the utility matrix\n",
    "head(utility_matrix)"
   ]
  },
  {
   "cell_type": "code",
   "execution_count": 42,
   "metadata": {
    "execution": {
     "iopub.execute_input": "2024-11-12T06:04:24.571936Z",
     "iopub.status.busy": "2024-11-12T06:04:24.570434Z",
     "iopub.status.idle": "2024-11-12T06:04:24.584758Z",
     "shell.execute_reply": "2024-11-12T06:04:24.582919Z"
    },
    "trusted": true,
    "vscode": {
     "languageId": "r"
    }
   },
   "outputs": [],
   "source": [
    "# Observations\n",
    "\n",
    "# Data Quality: Missing values and duplicates were successfully removed. Handling these is crucial for reducing noise in the recommendation system.\n",
    "\n",
    "# User-Item Sparsity: As expected, the utility matrix is sparse, meaning most users have only rated a limited number of products.\n",
    "\n",
    "# Selected Columns: Only the columns user_id, asin, and rating were retained, as other columns such as title, text, and timestamp were deemed unnecessary for collaborative filtering.\n",
    "\n",
    "# Utility Matrix: The resulting matrix provides a foundation for collaborative filtering, but its sparsity may influence recommendation quality and indicate a need for additional methods, such as matrix factorization."
   ]
  },
  {
   "cell_type": "markdown",
   "metadata": {},
   "source": [
    "## Problem 1\n",
    "\n",
    "### User-based collaborative filtering: 3 points (2+1)\n",
    "\n",
    "1. As part of the test run of the new business strategy, you are supposed to pick a user (consider the user with user_id:\"AE2O2C43KTYO4LXXGZWJZLE67GBQ\") and recommend 5 products based on other similar users.\n",
    "\n",
    "Remember to exclude the product(s) purchased by this user.\n",
    "\n",
    "2. Which similarity metric did you use? Why?"
   ]
  },
  {
   "cell_type": "code",
   "execution_count": null,
   "metadata": {
    "execution": {
     "iopub.execute_input": "2024-11-12T06:04:24.590605Z",
     "iopub.status.busy": "2024-11-12T06:04:24.589123Z",
     "iopub.status.idle": "2024-11-12T06:04:24.900028Z",
     "shell.execute_reply": "2024-11-12T06:04:24.897532Z"
    },
    "trusted": true,
    "vscode": {
     "languageId": "plaintext"
    }
   },
   "outputs": [
    {
     "data": {
      "text/html": [
       "<style>\n",
       ".dl-inline {width: auto; margin:0; padding: 0}\n",
       ".dl-inline>dt, .dl-inline>dd {float: none; width: auto; display: inline-block}\n",
       ".dl-inline>dt::after {content: \":\\0020\"; padding-right: .5ex}\n",
       ".dl-inline>dt:not(:first-of-type) {padding-left: .5ex}\n",
       "</style><dl class=dl-inline><dt>B098JWCZHB</dt><dd>10</dd><dt>B09GL3RDTD</dt><dd>8</dd><dt>B098WFX6TY</dt><dd>5</dd><dt>B08Z474Q6J</dt><dd>5</dd><dt>B09VCSTX43</dt><dd>5</dd></dl>\n"
      ],
      "text/latex": [
       "\\begin{description*}\n",
       "\\item[B098JWCZHB] 10\n",
       "\\item[B09GL3RDTD] 8\n",
       "\\item[B098WFX6TY] 5\n",
       "\\item[B08Z474Q6J] 5\n",
       "\\item[B09VCSTX43] 5\n",
       "\\end{description*}\n"
      ],
      "text/markdown": [
       "B098JWCZHB\n",
       ":   10B09GL3RDTD\n",
       ":   8B098WFX6TY\n",
       ":   5B08Z474Q6J\n",
       ":   5B09VCSTX43\n",
       ":   5\n",
       "\n"
      ],
      "text/plain": [
       "B098JWCZHB B09GL3RDTD B098WFX6TY B08Z474Q6J B09VCSTX43 \n",
       "        10          8          5          5          5 "
      ]
     },
     "metadata": {},
     "output_type": "display_data"
    }
   ],
   "source": [
    "# Your code here\n",
    "library(Matrix)\n",
    "\n",
    "# Reshape the data into a wide format to create the utility matrix\n",
    "utility_matrix <- df %>%\n",
    "  select(user_id, asin, rating) %>%\n",
    "  pivot_wider(names_from = asin, values_from = rating, values_fill = list(rating = NA))\n",
    "\n",
    "# Extract user IDs and convert the matrix to a realRatingMatrix format\n",
    "user_ids <- utility_matrix$user_id\n",
    "utility_matrix <- utility_matrix[, -1]  # Remove user_id column\n",
    "\n",
    "# Convert to realRatingMatrix format required by recommenderlab\n",
    "ratings_matrix <- as(as.matrix(utility_matrix), \"realRatingMatrix\")\n",
    "rownames(ratings_matrix) <- user_ids\n",
    "\n",
    "# Compute user similarity matrix\n",
    "user_similarity <- as.matrix(similarity(ratings_matrix, method = \"cosine\", which = \"users\"))\n",
    "\n",
    "# Find index of the target user\n",
    "target_user_index <- which(rownames(ratings_matrix) == \"AE2O2C43KTYO4LXXGZWJZLE67GBQ\")\n",
    "similar_users <- user_similarity[target_user_index, ]\n",
    "\n",
    "# Exclude the target user from their own similarity list and get top 5 similar users\n",
    "top_similar_users <- order(similar_users, decreasing = TRUE)[2:6]\n",
    "similar_user_ids <- rownames(user_similarity)[top_similar_users]\n",
    "\n",
    "\n",
    "# Extract items rated by the target user to avoid recommending them again\n",
    "target_user_ratings <- as(ratings_matrix[target_user_index, ], \"matrix\")[, ]\n",
    "rated_items <- names(target_user_ratings)[!is.na(target_user_ratings)]\n",
    "\n",
    "# Get ratings for similar users and exclude items rated by the target user\n",
    "recommendations <- ratings_matrix[similar_user_ids, ]\n",
    "recommendations <- recommendations[, !(colnames(recommendations) %in% rated_items)]\n",
    "\n",
    "# Aggregate ratings for recommended items\n",
    "recommended_items <- colSums(as(recommendations, \"matrix\"), na.rm = TRUE)\n",
    "top_recommendations <- sort(recommended_items, decreasing = TRUE)[1:5]\n",
    "\n",
    "top_recommendations"
   ]
  },
  {
   "cell_type": "code",
   "execution_count": 44,
   "metadata": {
    "execution": {
     "iopub.execute_input": "2024-11-12T06:04:24.906400Z",
     "iopub.status.busy": "2024-11-12T06:04:24.904229Z",
     "iopub.status.idle": "2024-11-12T06:04:24.919628Z",
     "shell.execute_reply": "2024-11-12T06:04:24.917796Z"
    },
    "trusted": true,
    "vscode": {
     "languageId": "r"
    }
   },
   "outputs": [],
   "source": [
    "# Similarity Metric Chosen: Cosine Similarity\n",
    "\n",
    "#reasons:\n",
    "# Sparsity: It works well with sparse data since it evaluates similarity by focusing on shared preferences regardless of magnitude.\n",
    "# Popularity: Cosine similarity is widely used in recommendation systems because it effectively captures the alignment between users’ item ratings."
   ]
  },
  {
   "cell_type": "markdown",
   "metadata": {},
   "source": [
    "## Problem 2\n",
    "\n",
    "### 1 point\n",
    "\n",
    "Consider the same user as in the previous problem.\n",
    "\n",
    "Let's assume this user decides to purchase the first product among the recommendations above. What rating is the user likely to give to this product?"
   ]
  },
  {
   "cell_type": "code",
   "execution_count": 45,
   "metadata": {
    "execution": {
     "iopub.execute_input": "2024-11-12T06:04:24.925678Z",
     "iopub.status.busy": "2024-11-12T06:04:24.924022Z",
     "iopub.status.idle": "2024-11-12T06:04:24.938831Z",
     "shell.execute_reply": "2024-11-12T06:04:24.936928Z"
    },
    "trusted": true,
    "vscode": {
     "languageId": "plaintext"
    }
   },
   "outputs": [],
   "source": [
    "# Your code here\n",
    "\n",
    "#Based on user-based collaborative filtering, \n",
    "#we estimate that the user would likely give a rating close to the average rating given by similar users for the recommended product. \n",
    "#By calculating this average, we assume that users with similar preferences would rate this product similarly. \n",
    "#Thus the target user is likely to rate it highly, potentially indicating a positive response to the recommendation."
   ]
  },
  {
   "cell_type": "markdown",
   "metadata": {},
   "source": [
    "## Problem 3\n",
    "\n",
    "### Item-based Collaborative Filtering: 2 points\n",
    "\n",
    "Use the item-based method from the package \"recommenderlab\" to recommend top-5 products to the user \"AE5IMGWRBJA7JQFBQTBK25HDYGVA\"."
   ]
  },
  {
   "cell_type": "code",
   "execution_count": 46,
   "metadata": {
    "execution": {
     "iopub.execute_input": "2024-11-12T06:04:24.944679Z",
     "iopub.status.busy": "2024-11-12T06:04:24.943146Z",
     "iopub.status.idle": "2024-11-12T06:04:25.820430Z",
     "shell.execute_reply": "2024-11-12T06:04:25.817773Z"
    },
    "trusted": true,
    "vscode": {
     "languageId": "plaintext"
    }
   },
   "outputs": [
    {
     "data": {
      "text/html": [
       "<style>\n",
       ".list-inline {list-style: none; margin:0; padding: 0}\n",
       ".list-inline>li {display: inline-block}\n",
       ".list-inline>li:not(:last-child)::after {content: \"\\00b7\"; padding: 0 .5ex}\n",
       "</style>\n",
       "<ol class=list-inline><li>'B08RD257KT'</li><li>'B0BCDSDSD1'</li><li>'B0B28VNFB6'</li><li>'B07VLBLNF3'</li><li>'B08Q8MMGTB'</li></ol>\n"
      ],
      "text/latex": [
       "\\begin{enumerate*}\n",
       "\\item 'B08RD257KT'\n",
       "\\item 'B0BCDSDSD1'\n",
       "\\item 'B0B28VNFB6'\n",
       "\\item 'B07VLBLNF3'\n",
       "\\item 'B08Q8MMGTB'\n",
       "\\end{enumerate*}\n"
      ],
      "text/markdown": [
       "1. 'B08RD257KT'\n",
       "2. 'B0BCDSDSD1'\n",
       "3. 'B0B28VNFB6'\n",
       "4. 'B07VLBLNF3'\n",
       "5. 'B08Q8MMGTB'\n",
       "\n",
       "\n"
      ],
      "text/plain": [
       "[1] \"B08RD257KT\" \"B0BCDSDSD1\" \"B0B28VNFB6\" \"B07VLBLNF3\" \"B08Q8MMGTB\""
      ]
     },
     "metadata": {},
     "output_type": "display_data"
    }
   ],
   "source": [
    "# Your code here\n",
    "\n",
    "# Define item-based collaborative filtering recommender\n",
    "item_based_recommender <- Recommender(ratings_matrix, method = \"IBCF\")\n",
    "# Predict top 5 recommendations for the target user\n",
    "target_user <- \"AE5IMGWRBJA7JQFBQTBK25HDYGVA\"\n",
    "recommendations <- predict(item_based_recommender, ratings_matrix[target_user, ], n = 5)\n",
    "# Convert recommendations to a list of recommended items\n",
    "recommended_items <- as(recommendations, \"list\")\n",
    "recommended_items[[1]]  # Display the top-5 recommended ASINs for the user\n"
   ]
  },
  {
   "cell_type": "markdown",
   "metadata": {},
   "source": [
    "## Problem 4\n",
    "\n",
    "### Long-tail problem: 2 points\n",
    "\n",
    "1. Plot a graph of the products and their frequencies(in descending order of frequency). State your observations about the graph. \n",
    "\n",
    "2. Suggest 2 ways to overcome the long-tail problem of recommender systems.\n",
    "\n",
    "\n",
    "\n",
    "List the links to the resources you referred to for your answer."
   ]
  },
  {
   "cell_type": "code",
   "execution_count": 47,
   "metadata": {
    "execution": {
     "iopub.execute_input": "2024-11-12T06:04:25.824909Z",
     "iopub.status.busy": "2024-11-12T06:04:25.823399Z",
     "iopub.status.idle": "2024-11-12T06:04:25.853749Z",
     "shell.execute_reply": "2024-11-12T06:04:25.851879Z"
    },
    "trusted": true,
    "vscode": {
     "languageId": "plaintext"
    }
   },
   "outputs": [],
   "source": [
    "# Your code here\n",
    "# Assuming 'df' is the data frame with 'asin' (product ID) and 'rating' columns\n",
    "\n",
    "# Calculate frequency of each product\n",
    "product_freq <- df %>%\n",
    "  group_by(asin) %>%\n",
    "  summarise(frequency = n()) %>%\n",
    "  arrange(desc(frequency))"
   ]
  },
  {
   "cell_type": "code",
   "execution_count": 48,
   "metadata": {
    "execution": {
     "iopub.execute_input": "2024-11-12T06:04:25.857877Z",
     "iopub.status.busy": "2024-11-12T06:04:25.856436Z",
     "iopub.status.idle": "2024-11-12T06:04:26.854963Z",
     "shell.execute_reply": "2024-11-12T06:04:26.853086Z"
    },
    "trusted": true,
    "vscode": {
     "languageId": "r"
    }
   },
   "outputs": [
    {
     "data": {
      "image/png": "[encoded data removed]"
     },
     "metadata": {
      "image/png": {
       "height": 420,
       "width": 420
      }
     },
     "output_type": "display_data"
    }
   ],
   "source": [
    "# Load ggplot2 for visualization\n",
    "library(ggplot2)\n",
    "\n",
    "# Plot frequency distribution\n",
    "ggplot(product_freq, aes(x = reorder(asin, -frequency), y = frequency)) +\n",
    "  geom_bar(stat = \"identity\") +\n",
    "  labs(title = \"Product Frequency Distribution\", x = \"Products (ASIN)\", y = \"Frequency\") +\n",
    "  theme(axis.text.x = element_blank(), axis.ticks.x = element_blank()) +\n",
    "  theme_minimal()"
   ]
  },
  {
   "cell_type": "code",
   "execution_count": 49,
   "metadata": {
    "execution": {
     "iopub.execute_input": "2024-11-12T06:04:26.859082Z",
     "iopub.status.busy": "2024-11-12T06:04:26.857602Z",
     "iopub.status.idle": "2024-11-12T06:04:26.870484Z",
     "shell.execute_reply": "2024-11-12T06:04:26.868708Z"
    },
    "trusted": true,
    "vscode": {
     "languageId": "r"
    }
   },
   "outputs": [],
   "source": [
    "# Strategies to Overcome the Long-Tail Problem\n",
    "\n",
    "# 1.Incorporate Diversity and Serendipity in Recommendations: By occasionally promoting lesser-known products in recommendations, we can help users discover items they wouldn’t typically encounter. This can be done using algorithms that balance popular and niche items or by using hybrid models combining collaborative filtering with content-based methods.\n",
    "\n",
    "# 2.Use a Hybrid Recommendation Approach: Combine collaborative filtering with content-based recommendations. By leveraging product attributes (like category or brand), we can recommend similar products that may not have high ratings but match user preferences, increasing exposure to lesser-known items in the long tail.\n",
    "\n",
    "#resources\n",
    "#\"The Netflix Prize and the Long Tail\"\n",
    "#\"Recommender Systems Handbook\""
   ]
  },
  {
   "cell_type": "markdown",
   "metadata": {},
   "source": [
    "## Problem 5\n",
    "\n",
    "### 1 point\n",
    "\n",
    "Do you see any shortcomings of Collaborative Filtering due to the dataset or other factors? What modifications would you introduce to achieve better results?"
   ]
  },
  {
   "cell_type": "code",
   "execution_count": 50,
   "metadata": {
    "execution": {
     "iopub.execute_input": "2024-11-12T06:04:26.874563Z",
     "iopub.status.busy": "2024-11-12T06:04:26.873170Z",
     "iopub.status.idle": "2024-11-12T06:04:26.885713Z",
     "shell.execute_reply": "2024-11-12T06:04:26.883968Z"
    },
    "trusted": true,
    "vscode": {
     "languageId": "r"
    }
   },
   "outputs": [],
   "source": [
    "# Limitations:\n",
    "\n",
    "# Data Sparsity: Many missing ratings in the dataset make it hard to identify meaningful similarities, especially for less-rated items.\n",
    "# Cold Start Problem: New users and items lack interaction data, making it difficult to recommend effectively.\n",
    "# Popularity Bias: Tends to recommend popular items more often, limiting diversity in suggestions.\n",
    "\n",
    "\n",
    "# Suggested Improvements:\n",
    "\n",
    "# Hybrid Models: Combine Collaborative Filtering with content-based methods to improve recommendations for new users/items.\n",
    "# Increase Diversity: Adjust the algorithm to promote a mix of popular and niche items.\n",
    "# Use Dimensionality Reduction: Techniques like SVD can help reduce sparsity and improve similarity detection.\n",
    "\n",
    "\n",
    "# These adjustments would make recommendations more accurate and diverse."
   ]
  },
  {
   "cell_type": "markdown",
   "metadata": {},
   "source": []
  },
  {
   "cell_type": "markdown",
   "metadata": {},
   "source": [
    "*Your answer here*"
   ]
  },
  {
   "cell_type": "markdown",
   "metadata": {
    "execution": {
     "iopub.execute_input": "2024-11-12T05:43:53.541843Z",
     "iopub.status.busy": "2024-11-12T05:43:53.540071Z",
     "iopub.status.idle": "2024-11-12T05:43:53.577051Z",
     "shell.execute_reply": "2024-11-12T05:43:53.565311Z"
    }
   },
   "source": [
    "Kudos on completing the task! Hope you could learn a few new things along the way.\n",
    "\n",
    "Here's an interesting approach that uses LLMs and the FAISS library to create a movie recommender system in python: https://www.youtube.com/watch?v=epidA1fBFtI&t=122s\n",
    "\n",
    "Do explore the above resource as it might have a bunch of new techniques in store for you."
   ]
  }
 ],
 "metadata": {
  "kaggle": {
   "accelerator": "none",
   "dataSources": [
    {
     "datasetId": 6026137,
     "sourceId": 9826553,
     "sourceType": "datasetVersion"
    }
   ],
   "dockerImageVersionId": 30749,
   "isGpuEnabled": false,
   "isInternetEnabled": true,
   "language": "r",
   "sourceType": "notebook"
  },
  "kernelspec": {
   "display_name": "R",
   "language": "R",
   "name": "ir"
  },
  "language_info": {
   "codemirror_mode": "r",
   "file_extension": ".r",
   "mimetype": "text/x-r-source",
   "name": "R",
   "pygments_lexer": "r",
   "version": "4.4.0"
  }
 },
 "nbformat": 4,
 "nbformat_minor": 4
}
