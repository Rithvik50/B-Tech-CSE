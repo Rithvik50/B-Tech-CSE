{
  "nbformat": 4,
  "nbformat_minor": 0,
  "metadata": {
    "colab": {
      "provenance": []
    },
    "kernelspec": {
      "name": "python3",
      "display_name": "Python 3"
    },
    "language_info": {
      "name": "python"
    }
  },
  "cells": [
    {
      "cell_type": "code",
      "source": [
        "import requests\n",
        "\n",
        "# === CONFIGURATION ===\n",
        "TAVILY_API_KEY = \"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\"  # Replace with your Tavily API key\n",
        "OPENROUTER_API_KEY = \"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\"  # Get from https://openrouter.ai\n",
        "\n",
        "# === STEP 1: Fetch Latest Research Findings ===\n",
        "def search_latest_ai_news(query=\"Latest AI breakthroughs 2025\", num_results=5):\n",
        "    url = \"https://api.tavily.com/search\"\n",
        "    headers = {\n",
        "        \"Authorization\": f\"Bearer {TAVILY_API_KEY}\",\n",
        "        \"Content-Type\": \"application/json\"\n",
        "    }\n",
        "    payload = {\"query\": query, \"num_results\": num_results}\n",
        "    response = requests.post(url, json=payload, headers=headers)\n",
        "\n",
        "    if response.status_code == 200:\n",
        "        return response.json().get(\"results\", [])\n",
        "    else:\n",
        "        print(\"Error fetching search results:\", response.text)\n",
        "        return []\n",
        "\n",
        "# === STEP 2: Format Research Data ===\n",
        "def format_research_data(results):\n",
        "    research_text = \"\"\n",
        "    for idx, result in enumerate(results, 1):\n",
        "        title = result.get(\"title\", \"No Title\")\n",
        "        url = result.get(\"url\", \"No URL\")\n",
        "        content = result.get(\"content\", \"No Summary Available\")\n",
        "        research_text += f\"{idx}. {title}\\nURL: {url}\\nSummary: {content}\\n\\n\"\n",
        "    return research_text\n",
        "\n",
        "# === STEP 3: Generate an AI-Written Article Using OpenRouter ===\n",
        "def generate_article(research_text):\n",
        "    url = \"https://openrouter.ai/api/v1/chat/completions\"\n",
        "    headers = {\"Authorization\": f\"Bearer {OPENROUTER_API_KEY}\", \"Content-Type\": \"application/json\"}\n",
        "\n",
        "    payload = {\n",
        "        \"model\": \"mistralai/mistral-7b-instruct\",  # Free models: \"mistral\", \"gemma\", \"llama3\"\n",
        "        \"messages\": [\n",
        "            {\"role\": \"system\", \"content\": \"You are an expert AI research writer.\"},\n",
        "            {\"role\": \"user\", \"content\": f\"Write a detailed article based on these AI research findings:\\n\\n{research_text}\"}\n",
        "        ]\n",
        "    }\n",
        "\n",
        "    response = requests.post(url, headers=headers, json=payload)\n",
        "\n",
        "    if response.status_code == 200:\n",
        "        return response.json()[\"choices\"][0][\"message\"][\"content\"]\n",
        "    else:\n",
        "        return f\"Error: {response.text}\"\n",
        "\n",
        "# === STEP 4: Run the Pipeline in Colab ===\n",
        "if __name__ == \"__main__\":\n",
        "    research_results = search_latest_ai_news()\n",
        "    if research_results:\n",
        "        research_text = format_research_data(research_results)\n",
        "        article = generate_article(research_text)\n",
        "        print(\"\\n=== Generated AI Article ===\\n\")\n",
        "        print(article)\n",
        "    else:\n",
        "        print(\"No research data found.\")\n"
      ],
      "metadata": {
        "colab": {
          "base_uri": "https://localhost:8080/"
        },
        "id": "y1lczsYi2zyr",
        "outputId": "db35ea0d-b6be-46bd-8a29-0782fbfbd14e"
      },
      "execution_count": null,
      "outputs": [
        {
          "output_type": "stream",
          "name": "stdout",
          "text": [
            "\n",
            "=== Generated AI Article ===\n",
            "\n",
            " Title: Embracing the Future: Navigating the Latest AI Advancements and Trends in 2025\n",
            "\n",
            "As we delve into the heart of February 2025, the world of artificial intelligence (AI) continues to evolve at a breathtaking pace. Recent developments underscore a shift in the AI landscape, characterized by open-source avancementsd, strategic economic explorations, and growing focus on ethical considerations. Here's a roundup of the most impactful AI research findings and trends that businesses and individuals should be keen to explore.\n",
            "\n",
            "1. **OpenAI's Latest Breakthrough: GPT-4.5**\n",
            "   OpenAI has unveiled its largest and most advanced AI model to date, GPT-4.5. This new model is poised to revolutionize various sectors, showcasing the constant momentum in developing more powerful and versatile AI tools. (Source: [Crescendo.ai](https://www.crescendo.ai/news/latest-ai-news-and-updates))\n",
            "\n",
            "2. **Skill Enhancement with Kickstart's GenAI Course**\n",
            "   Aimed at professional advancement, Interview Kickstart has launched a new Generative AI (GenAI) course. This course empowers individuals to hone their AI skills and adapt to the ever-evolving demands of the industry. (Source: [Interview Kickstart](https://www.interviewkickstart.com/))\n",
            "\n",
            "3. **Elon Musk's X Upgrades AI Chatbot with Aurora**\n",
            "   Elon Musk's social media platform, X, has enhanced its AI chatbot, Grok, with advanced image editing features powered by the Aurora model. This update exemplifies the continuing fusion of cutting-edge technology and user-friendly applications. (Source: [Elon Musk's X](https://www.x.com/))\n",
            "\n",
            "4. **DeepSeek's Open-Source AI: Rivaling Leading U.S. Technologies**\n",
            "   Chinese startup DeepSeek has introduced an AI model that competes with U.S. technologies, all while operating with fewer resources. This breakthrough highlights the growing global AI race, not only for technological dominance, but also for shaping AI policies and addressing challenges like cybersecurity, data privacy, and ethics. (Source: [Tech Startups](https://techstartups.com/2025/01/01/top-15-ai-trends-for-2025-expert-predictions-you-need-to-know/))\n",
            "\n",
            "5. **Google's Gemini 2.0: Agentic Capabilities Galore**\n",
            "   Google has revealed its most capable AI model yet, Gemini 2.0, featuring agentic capabilities designed for developers, enterprises, and individuals. This model promises to enable a new level of autonomy and efficiency for AI agents, enhancing their role in daily life. (Source: [Google AI Blog](https://ai.google/research/blog/gemini-2-0-our-most-capable-model-to-date))\n",
            "\n",
            "Looking ahead, several key AI trends are expected to shape the landscape in 2025:\n",
            "\n",
            "1. **AI-Powered Productivity**\n",
            "   With AI-powered tools taking over mundane tasks, professionals can expect to spend less time on repetitive work and more on creative, high-impact activities. By 2025, self-learning systems are poised to play a significant role in automating the development of more sophisticated AI models. (Source: [Tech Startups](https://techstartups.com/2025/01/01/top-15-ai-trends-for-2025-expert-predictions-you-need-to-know/))\n",
            "\n",
            "2. **AI in Cybersecurity**\n",
            "   AI advancements in cybersecurity will enable us to anticipate potential threats more effectively, bolstering overall security and setting the stage for a safer digital world.\n",
            "\n",
            "In conclusion, the future of AI is one of ceaseless innovation, driven by a delicate balance between technological growth, ethical considerations, and the dynamic shifts in global policies. As with any technological paradigm shift, it is crucial for businesses and individuals alike to stay informed and adapt to these emerging trends in order to stay ahead of the curve.\n"
          ]
        }
      ]
    },
    {
      "cell_type": "code",
      "source": [],
      "metadata": {
        "colab": {
          "base_uri": "https://localhost:8080/"
        },
        "id": "NcIKJkM94Baq",
        "outputId": "1942129d-4f76-47fd-f58d-5bd7ff0a1679"
      },
      "execution_count": null,
      "outputs": [
        {
          "output_type": "stream",
          "name": "stdout",
          "text": [
            "✅ Tavily API Key is working!\n",
            "{'query': 'Latest AI breakthroughs 2025', 'follow_up_questions': None, 'answer': None, 'images': [], 'results': [{'title': 'Latest AI Breakthroughs and News - February 2025 | News', 'url': 'https://www.crescendo.ai/news/latest-ai-news-and-updates', 'content': 'Summary: OpenAI has announced GPT-4.5, its largest and most advanced AI model to date. Summary: Interview Kickstart has introduced a new Generative AI (GenAI) course designed for professionals aiming to enhance their skills in artificial intelligence. Baidu to Open-Source Latest Ernie AI Model Summary: Elon Musk’s social media platform, X, has announced an upgrade to its AI chatbot, Grok, introducing advanced image editing features powered by the Aurora model. Summary: Chinese startup DeepSeek unveiled n AI model that rivals leading U.S. technologies but operates with significantly fewer resources. Summary: Google announced significant AI advancements, including the release of Gemini 2.0, their most capable model to date, featuring agentic capabilities for developers, enterprises, and individuals. Source: Google AI Blog Source: Google AI Blog', 'score': 0.94109917, 'raw_content': None}, {'title': 'Top 15 AI Trends for 2025: Expert Predictions You Need to Know', 'url': 'https://techstartups.com/2025/01/01/top-15-ai-trends-for-2025-expert-predictions-you-need-to-know/', 'content': 'Top 15 AI Trends for 2025: Expert Predictions You Need to Know - Tech Startups Deepseek, a\\xa0free open-source AI model developed by a Chinese tech startup, exemplifies a growing trend in open-source AI, where accessible tools are pushing the boundaries of performance and affordability. This competition is as much about technological dominance as it is about shaping global AI policies and addressing challenges like cybersecurity, data privacy, and ethics. Workplace Productivity: AI-powered tools like scheduling assistants, email managers, and task prioritization systems will free professionals from mundane tasks. By 2025, self-learning systems will likely play a significant role in automating the development of more sophisticated AI models, reducing the need for human intervention in fine-tuning and training. AI in Cybersecurity', 'score': 0.83710164, 'raw_content': None}, {'title': 'AI Advancements in 2025: The Next Big Innovations to Watch', 'url': 'https://techresearchs.com/artificial-intelligence/ai-advancements-in-2025-the-next-big-innovations-to-watch/', 'content': 'Home/Artificial intelligence_/_AI Advancements in 2025: The Next Big Innovations to Watch Self-learning\\xa0AI advancements in 2025\\xa0will enable machines to improve over time without human intervention. AI will improve automation, healthcare, cybersecurity, and transportation, making daily life more efficient and secure. With innovations in\\xa0healthcare, cybersecurity, smart cities, and transportation, AI will enhance efficiency, security, and sustainability. Facebook Twitter LinkedIn Tumblr Pinterest Reddit VKontakte Odnoklassniki Pocket Share via Email Print AI-Powered Robots: A New Era in Automation and Efficiency AI Artificial Intelligence Augmented reality Biotechnology blockchain Cloud Cloud computing Crypto Cryptocurrencies cybercrime Cybersecurity Decentralized Ethical hacking Industrial Internet iot Machine learning medical 28 minutes ago ### AI Advancements in 2025: The Next Big Innovations to Watch', 'score': 0.82288796, 'raw_content': None}, {'title': 'AI Industry Buzz: February 2025 Highlights Major Developments', 'url': 'https://opentools.ai/news/ai-industry-buzz-february-2025-highlights-major-developments', 'content': \"The AI Action Summit's paradigm shift from prioritizing safety to exploring economic opportunities further illustrated the evolving priorities within the field [1](https://substack.com/home/post/p-157225869?utm_campaign=post&utm_medium=web). Dr. Sarah Chen, an AI Ethics Researcher at MIT, underscores the necessity for robust content authentication systems to mitigate these risks, emphasizing the dual nature of technological advancements in AI models [1](https://substack.com/home/post/p-157225869?utm_campaign=post&utm_medium=web). The ramifications of these lawsuits could be profound, possibly leading to new regulatory measures and increasing the costs of AI development, thus affecting the entire business model within the industry [1](https://substack.com/home/post/p-157225869?utm_campaign=post&utm_medium=web). Moreover, ongoing copyright lawsuits related to AI training data could carve out new legal precedents, influencing how AI technologies are developed and deployed in the future [1](https://substack.com/home/post/p-157225869?utm_campaign=post&utm_medium=web).\", 'score': 0.767847, 'raw_content': None}, {'title': 'The 10 Biggest AI Trends Of 2025 Everyone Must Be Ready For Today - Forbes', 'url': 'https://www.forbes.com/sites/bernardmarr/2024/09/24/the-10-biggest-ai-trends-of-2025-everyone-must-be-ready-for-today/', 'content': \"Rather than simply adding chatbots to everything, this will be the way smart businesses begin to generate real value from AI in the coming year. Though some of this will be driven by legislation (more on this below), there's also a growing awareness of the harm that can be caused by the irresponsible use of AI. AI voice assistants (think Siri or Alexa) have been a part of our lives for many years now, but their conversational capabilities have traditionally been quite limited. Most AI tools we see in use today work on the basis that they carry out simple tasks, such as generating text or interpreting data in order to make predictions.\", 'score': 0.67192334, 'raw_content': None}], 'response_time': 1.72}\n"
          ]
        }
      ]
    }
  ]
}