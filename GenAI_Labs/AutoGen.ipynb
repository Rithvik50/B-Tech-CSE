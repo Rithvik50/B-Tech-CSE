{
  "nbformat": 4,
  "nbformat_minor": 0,
  "metadata": {
    "colab": {
      "provenance": []
    },
    "kernelspec": {
      "name": "python3",
      "display_name": "Python 3"
    },
    "language_info": {
      "name": "python"
    }
  },
  "cells": [
    {
      "cell_type": "code",
      "source": [
        "import requests\n",
        "\n",
        "# Your Tavily API Key\n",
        "api_key = \"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\"\n",
        "url = \"https://api.tavily.com/search\"  # Ensure this is the correct endpoint\n",
        "\n",
        "# Define headers\n",
        "headers = {\n",
        "    \"Authorization\": f\"Bearer {api_key}\",\n",
        "    \"Content-Type\": \"application/json\"  # Ensure JSON request format\n",
        "}\n",
        "\n",
        "# Define request payload\n",
        "payload = {\n",
        "    \"query\": \"Latest AI breakthroughs 2025\",\n",
        "    \"num_results\": 3  # Adjust based on API limits\n",
        "}\n",
        "\n",
        "# Make POST request\n",
        "response = requests.post(url, json=payload, headers=headers)\n",
        "\n",
        "# Print debug information\n",
        "print(\"Status Code:\", response.status_code)\n",
        "print(\"Response Text:\", response.text)\n"
      ],
      "metadata": {
        "colab": {
          "base_uri": "https://localhost:8080/"
        },
        "id": "jQce0JhAvVDK",
        "outputId": "5949d910-0d9c-4883-cf66-526cfbb6a194"
      },
      "execution_count": null,
      "outputs": [
        {
          "output_type": "stream",
          "name": "stdout",
          "text": [
            "Status Code: 200\n",
            "Response Text: {\"query\":\"Latest AI breakthroughs 2025\",\"follow_up_questions\":null,\"answer\":null,\"images\":[],\"results\":[{\"title\":\"Latest AI Breakthroughs and News - February 2025 | News\",\"url\":\"https://www.crescendo.ai/news/latest-ai-news-and-updates\",\"content\":\"Summary: OpenAI has announced GPT-4.5, its largest and most advanced AI model to date. Summary: Interview Kickstart has introduced a new Generative AI (GenAI) course designed for professionals aiming to enhance their skills in artificial intelligence. Baidu to Open-Source Latest Ernie AI Model Summary: Elon Musk’s social media platform, X, has announced an upgrade to its AI chatbot, Grok, introducing advanced image editing features powered by the Aurora model. Summary: Chinese startup DeepSeek unveiled n AI model that rivals leading U.S. technologies but operates with significantly fewer resources. Summary: Google announced significant AI advancements, including the release of Gemini 2.0, their most capable model to date, featuring agentic capabilities for developers, enterprises, and individuals. Source: Google AI Blog Source: Google AI Blog\",\"score\":0.94109917,\"raw_content\":null},{\"title\":\"Top 15 AI Trends for 2025: Expert Predictions You Need to Know\",\"url\":\"https://techstartups.com/2025/01/01/top-15-ai-trends-for-2025-expert-predictions-you-need-to-know/\",\"content\":\"Top 15 AI Trends for 2025: Expert Predictions You Need to Know - Tech Startups Deepseek, a free open-source AI model developed by a Chinese tech startup, exemplifies a growing trend in open-source AI, where accessible tools are pushing the boundaries of performance and affordability. This competition is as much about technological dominance as it is about shaping global AI policies and addressing challenges like cybersecurity, data privacy, and ethics. Workplace Productivity: AI-powered tools like scheduling assistants, email managers, and task prioritization systems will free professionals from mundane tasks. By 2025, self-learning systems will likely play a significant role in automating the development of more sophisticated AI models, reducing the need for human intervention in fine-tuning and training. AI in Cybersecurity\",\"score\":0.83710164,\"raw_content\":null},{\"title\":\"AI Advancements in 2025: The Next Big Innovations to Watch\",\"url\":\"https://techresearchs.com/artificial-intelligence/ai-advancements-in-2025-the-next-big-innovations-to-watch/\",\"content\":\"Home/Artificial intelligence_/_AI Advancements in 2025: The Next Big Innovations to Watch Self-learning AI advancements in 2025 will enable machines to improve over time without human intervention. AI will improve automation, healthcare, cybersecurity, and transportation, making daily life more efficient and secure. With innovations in healthcare, cybersecurity, smart cities, and transportation, AI will enhance efficiency, security, and sustainability. Facebook Twitter LinkedIn Tumblr Pinterest Reddit VKontakte Odnoklassniki Pocket Share via Email Print AI-Powered Robots: A New Era in Automation and Efficiency AI Artificial Intelligence Augmented reality Biotechnology blockchain Cloud Cloud computing Crypto Cryptocurrencies cybercrime Cybersecurity Decentralized Ethical hacking Industrial Internet iot Machine learning medical 28 minutes ago ### AI Advancements in 2025: The Next Big Innovations to Watch\",\"score\":0.82288796,\"raw_content\":null},{\"title\":\"AI Industry Buzz: February 2025 Highlights Major Developments\",\"url\":\"https://opentools.ai/news/ai-industry-buzz-february-2025-highlights-major-developments\",\"content\":\"The AI Action Summit's paradigm shift from prioritizing safety to exploring economic opportunities further illustrated the evolving priorities within the field [1](https://substack.com/home/post/p-157225869?utm_campaign=post&utm_medium=web). Dr. Sarah Chen, an AI Ethics Researcher at MIT, underscores the necessity for robust content authentication systems to mitigate these risks, emphasizing the dual nature of technological advancements in AI models [1](https://substack.com/home/post/p-157225869?utm_campaign=post&utm_medium=web). The ramifications of these lawsuits could be profound, possibly leading to new regulatory measures and increasing the costs of AI development, thus affecting the entire business model within the industry [1](https://substack.com/home/post/p-157225869?utm_campaign=post&utm_medium=web). Moreover, ongoing copyright lawsuits related to AI training data could carve out new legal precedents, influencing how AI technologies are developed and deployed in the future [1](https://substack.com/home/post/p-157225869?utm_campaign=post&utm_medium=web).\",\"score\":0.767847,\"raw_content\":null},{\"title\":\"The 10 Biggest AI Trends Of 2025 Everyone Must Be Ready For Today - Forbes\",\"url\":\"https://www.forbes.com/sites/bernardmarr/2024/09/24/the-10-biggest-ai-trends-of-2025-everyone-must-be-ready-for-today/\",\"content\":\"Rather than simply adding chatbots to everything, this will be the way smart businesses begin to generate real value from AI in the coming year. Though some of this will be driven by legislation (more on this below), there's also a growing awareness of the harm that can be caused by the irresponsible use of AI. AI voice assistants (think Siri or Alexa) have been a part of our lives for many years now, but their conversational capabilities have traditionally been quite limited. Most AI tools we see in use today work on the basis that they carry out simple tasks, such as generating text or interpreting data in order to make predictions.\",\"score\":0.67192334,\"raw_content\":null}],\"response_time\":1.63}\n"
          ]
        }
      ]
    },
    {
      "cell_type": "code",
      "source": [
        "import requests\n",
        "\n",
        "# Tavily API Key\n",
        "api_key = \"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\"\n",
        "url = \"https://api.tavily.com/search\"\n",
        "\n",
        "headers = {\n",
        "    \"Authorization\": f\"Bearer {api_key}\",\n",
        "    \"Content-Type\": \"application/json\"\n",
        "}\n",
        "\n",
        "payload = {\n",
        "    \"query\": \"Latest AI breakthroughs 2025\",\n",
        "    \"num_results\": 5\n",
        "}\n",
        "\n",
        "# Fetch search results\n",
        "response = requests.post(url, json=payload, headers=headers)\n",
        "\n",
        "if response.status_code == 200:\n",
        "    data = response.json()\n",
        "    results = data.get(\"results\", [])  # Extract search results\n",
        "\n",
        "    for idx, result in enumerate(results, 1):\n",
        "        title = result.get(\"title\", \"No Title\")\n",
        "        url = result.get(\"url\", \"No URL\")\n",
        "        content = result.get(\"content\", \"No Summary Available\")\n",
        "\n",
        "        print(f\"{idx}. {title}\")\n",
        "        print(f\"   URL: {url}\")\n",
        "        print(f\"   Summary: {content}\\n\")\n",
        "else:\n",
        "    print(\"Error fetching data:\", response.text)\n"
      ],
      "metadata": {
        "id": "w91DX-uawEUy",
        "outputId": "8a56866f-80cb-4059-eb7a-4eace3aad119",
        "colab": {
          "base_uri": "https://localhost:8080/"
        }
      },
      "execution_count": null,
      "outputs": [
        {
          "output_type": "stream",
          "name": "stdout",
          "text": [
            "1. Latest AI Breakthroughs and News - February 2025 | News\n",
            "   URL: https://www.crescendo.ai/news/latest-ai-news-and-updates\n",
            "   Summary: Summary: OpenAI has announced GPT-4.5, its largest and most advanced AI model to date. Summary: Interview Kickstart has introduced a new Generative AI (GenAI) course designed for professionals aiming to enhance their skills in artificial intelligence. Baidu to Open-Source Latest Ernie AI Model Summary: Elon Musk’s social media platform, X, has announced an upgrade to its AI chatbot, Grok, introducing advanced image editing features powered by the Aurora model. Summary: Chinese startup DeepSeek unveiled n AI model that rivals leading U.S. technologies but operates with significantly fewer resources. Summary: Google announced significant AI advancements, including the release of Gemini 2.0, their most capable model to date, featuring agentic capabilities for developers, enterprises, and individuals. Source: Google AI Blog Source: Google AI Blog\n",
            "\n",
            "2. Top 15 AI Trends for 2025: Expert Predictions You Need to Know\n",
            "   URL: https://techstartups.com/2025/01/01/top-15-ai-trends-for-2025-expert-predictions-you-need-to-know/\n",
            "   Summary: Top 15 AI Trends for 2025: Expert Predictions You Need to Know - Tech Startups Deepseek, a free open-source AI model developed by a Chinese tech startup, exemplifies a growing trend in open-source AI, where accessible tools are pushing the boundaries of performance and affordability. This competition is as much about technological dominance as it is about shaping global AI policies and addressing challenges like cybersecurity, data privacy, and ethics. Workplace Productivity: AI-powered tools like scheduling assistants, email managers, and task prioritization systems will free professionals from mundane tasks. By 2025, self-learning systems will likely play a significant role in automating the development of more sophisticated AI models, reducing the need for human intervention in fine-tuning and training. AI in Cybersecurity\n",
            "\n",
            "3. AI Advancements in 2025: The Next Big Innovations to Watch\n",
            "   URL: https://techresearchs.com/artificial-intelligence/ai-advancements-in-2025-the-next-big-innovations-to-watch/\n",
            "   Summary: Home/Artificial intelligence_/_AI Advancements in 2025: The Next Big Innovations to Watch Self-learning AI advancements in 2025 will enable machines to improve over time without human intervention. AI will improve automation, healthcare, cybersecurity, and transportation, making daily life more efficient and secure. With innovations in healthcare, cybersecurity, smart cities, and transportation, AI will enhance efficiency, security, and sustainability. Facebook Twitter LinkedIn Tumblr Pinterest Reddit VKontakte Odnoklassniki Pocket Share via Email Print AI-Powered Robots: A New Era in Automation and Efficiency AI Artificial Intelligence Augmented reality Biotechnology blockchain Cloud Cloud computing Crypto Cryptocurrencies cybercrime Cybersecurity Decentralized Ethical hacking Industrial Internet iot Machine learning medical 28 minutes ago ### AI Advancements in 2025: The Next Big Innovations to Watch\n",
            "\n",
            "4. AI Industry Buzz: February 2025 Highlights Major Developments\n",
            "   URL: https://opentools.ai/news/ai-industry-buzz-february-2025-highlights-major-developments\n",
            "   Summary: The AI Action Summit's paradigm shift from prioritizing safety to exploring economic opportunities further illustrated the evolving priorities within the field [1](https://substack.com/home/post/p-157225869?utm_campaign=post&utm_medium=web). Dr. Sarah Chen, an AI Ethics Researcher at MIT, underscores the necessity for robust content authentication systems to mitigate these risks, emphasizing the dual nature of technological advancements in AI models [1](https://substack.com/home/post/p-157225869?utm_campaign=post&utm_medium=web). The ramifications of these lawsuits could be profound, possibly leading to new regulatory measures and increasing the costs of AI development, thus affecting the entire business model within the industry [1](https://substack.com/home/post/p-157225869?utm_campaign=post&utm_medium=web). Moreover, ongoing copyright lawsuits related to AI training data could carve out new legal precedents, influencing how AI technologies are developed and deployed in the future [1](https://substack.com/home/post/p-157225869?utm_campaign=post&utm_medium=web).\n",
            "\n",
            "5. The 10 Biggest AI Trends Of 2025 Everyone Must Be Ready For Today - Forbes\n",
            "   URL: https://www.forbes.com/sites/bernardmarr/2024/09/24/the-10-biggest-ai-trends-of-2025-everyone-must-be-ready-for-today/\n",
            "   Summary: Rather than simply adding chatbots to everything, this will be the way smart businesses begin to generate real value from AI in the coming year. Though some of this will be driven by legislation (more on this below), there's also a growing awareness of the harm that can be caused by the irresponsible use of AI. AI voice assistants (think Siri or Alexa) have been a part of our lives for many years now, but their conversational capabilities have traditionally been quite limited. Most AI tools we see in use today work on the basis that they carry out simple tasks, such as generating text or interpreting data in order to make predictions.\n",
            "\n"
          ]
        }
      ]
    }
  ]
}